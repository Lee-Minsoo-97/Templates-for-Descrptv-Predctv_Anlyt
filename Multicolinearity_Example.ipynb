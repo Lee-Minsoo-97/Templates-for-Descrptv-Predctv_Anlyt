{
  "cells": [
    {
      "cell_type": "markdown",
      "metadata": {
        "id": "view-in-github",
        "colab_type": "text"
      },
      "source": [
        "<a href=\"https://colab.research.google.com/github/Lee-Minsoo-97/Templates-for-Descrptv-Predctv_Anlyt/blob/main/Multicolinearity_Example.ipynb\" target=\"_parent\"><img src=\"https://colab.research.google.com/assets/colab-badge.svg\" alt=\"Open In Colab\"/></a>"
      ]
    },
    {
      "cell_type": "markdown",
      "id": "8b927613",
      "metadata": {
        "id": "8b927613"
      },
      "source": [
        "# Muticolinearity\n",
        "\n",
        "This python file is designed to examine colinearity among explainatory variables in regression analysis.\n",
        "\n",
        "\n",
        "\n"
      ]
    },
    {
      "cell_type": "code",
      "execution_count": null,
      "id": "2e5f9313",
      "metadata": {
        "id": "2e5f9313"
      },
      "outputs": [],
      "source": [
        "import pandas as pd\n",
        "import numpy as np\n",
        "import statsmodels.formula.api as smf\n",
        "import statsmodels.api as sm\n",
        "from statsmodels.stats.outliers_influence import variance_inflation_factor\n",
        "from statsmodels.stats.anova import anova_lm\n",
        "import matplotlib.pyplot as plt\n",
        "import warnings\n",
        "from pandas.errors import SettingWithCopyWarning\n",
        "warnings.simplefilter(action=\"ignore\", category=SettingWithCopyWarning)"
      ]
    },
    {
      "cell_type": "code",
      "execution_count": null,
      "id": "37ed7f16",
      "metadata": {
        "id": "37ed7f16",
        "outputId": "46e4ad10-f16b-4e7e-a82f-c8dcaccbd290"
      },
      "outputs": [
        {
          "data": {
            "text/html": [
              "<div>\n",
              "<style scoped>\n",
              "    .dataframe tbody tr th:only-of-type {\n",
              "        vertical-align: middle;\n",
              "    }\n",
              "\n",
              "    .dataframe tbody tr th {\n",
              "        vertical-align: top;\n",
              "    }\n",
              "\n",
              "    .dataframe thead th {\n",
              "        text-align: right;\n",
              "    }\n",
              "</style>\n",
              "<table border=\"1\" class=\"dataframe\">\n",
              "  <thead>\n",
              "    <tr style=\"text-align: right;\">\n",
              "      <th></th>\n",
              "      <th>Person</th>\n",
              "      <th>Gender</th>\n",
              "      <th>Age</th>\n",
              "      <th>Experience</th>\n",
              "      <th>Seniority</th>\n",
              "      <th>Salary</th>\n",
              "    </tr>\n",
              "  </thead>\n",
              "  <tbody>\n",
              "    <tr>\n",
              "      <th>0</th>\n",
              "      <td>1</td>\n",
              "      <td>Male</td>\n",
              "      <td>56</td>\n",
              "      <td>29</td>\n",
              "      <td>28</td>\n",
              "      <td>126400</td>\n",
              "    </tr>\n",
              "    <tr>\n",
              "      <th>1</th>\n",
              "      <td>2</td>\n",
              "      <td>Male</td>\n",
              "      <td>30</td>\n",
              "      <td>5</td>\n",
              "      <td>5</td>\n",
              "      <td>62300</td>\n",
              "    </tr>\n",
              "    <tr>\n",
              "      <th>2</th>\n",
              "      <td>3</td>\n",
              "      <td>Male</td>\n",
              "      <td>34</td>\n",
              "      <td>8</td>\n",
              "      <td>4</td>\n",
              "      <td>48500</td>\n",
              "    </tr>\n",
              "    <tr>\n",
              "      <th>3</th>\n",
              "      <td>4</td>\n",
              "      <td>Male</td>\n",
              "      <td>43</td>\n",
              "      <td>15</td>\n",
              "      <td>14</td>\n",
              "      <td>87500</td>\n",
              "    </tr>\n",
              "    <tr>\n",
              "      <th>4</th>\n",
              "      <td>5</td>\n",
              "      <td>Female</td>\n",
              "      <td>42</td>\n",
              "      <td>15</td>\n",
              "      <td>7</td>\n",
              "      <td>68700</td>\n",
              "    </tr>\n",
              "    <tr>\n",
              "      <th>...</th>\n",
              "      <td>...</td>\n",
              "      <td>...</td>\n",
              "      <td>...</td>\n",
              "      <td>...</td>\n",
              "      <td>...</td>\n",
              "      <td>...</td>\n",
              "    </tr>\n",
              "    <tr>\n",
              "      <th>295</th>\n",
              "      <td>296</td>\n",
              "      <td>Male</td>\n",
              "      <td>44</td>\n",
              "      <td>18</td>\n",
              "      <td>8</td>\n",
              "      <td>58000</td>\n",
              "    </tr>\n",
              "    <tr>\n",
              "      <th>296</th>\n",
              "      <td>297</td>\n",
              "      <td>Male</td>\n",
              "      <td>38</td>\n",
              "      <td>12</td>\n",
              "      <td>9</td>\n",
              "      <td>72400</td>\n",
              "    </tr>\n",
              "    <tr>\n",
              "      <th>297</th>\n",
              "      <td>298</td>\n",
              "      <td>Male</td>\n",
              "      <td>47</td>\n",
              "      <td>16</td>\n",
              "      <td>11</td>\n",
              "      <td>70200</td>\n",
              "    </tr>\n",
              "    <tr>\n",
              "      <th>298</th>\n",
              "      <td>299</td>\n",
              "      <td>Male</td>\n",
              "      <td>45</td>\n",
              "      <td>18</td>\n",
              "      <td>18</td>\n",
              "      <td>102100</td>\n",
              "    </tr>\n",
              "    <tr>\n",
              "      <th>299</th>\n",
              "      <td>300</td>\n",
              "      <td>Male</td>\n",
              "      <td>47</td>\n",
              "      <td>16</td>\n",
              "      <td>14</td>\n",
              "      <td>86200</td>\n",
              "    </tr>\n",
              "  </tbody>\n",
              "</table>\n",
              "<p>300 rows × 6 columns</p>\n",
              "</div>"
            ],
            "text/plain": [
              "     Person  Gender  Age  Experience  Seniority  Salary\n",
              "0         1    Male   56          29         28  126400\n",
              "1         2    Male   30           5          5   62300\n",
              "2         3    Male   34           8          4   48500\n",
              "3         4    Male   43          15         14   87500\n",
              "4         5  Female   42          15          7   68700\n",
              "..      ...     ...  ...         ...        ...     ...\n",
              "295     296    Male   44          18          8   58000\n",
              "296     297    Male   38          12          9   72400\n",
              "297     298    Male   47          16         11   70200\n",
              "298     299    Male   45          18         18  102100\n",
              "299     300    Male   47          16         14   86200\n",
              "\n",
              "[300 rows x 6 columns]"
            ]
          },
          "execution_count": 3,
          "metadata": {},
          "output_type": "execute_result"
        }
      ],
      "source": [
        "data = pd.read_excel('Salary Multicollinearity Demonstration.xlsx')\n",
        "data"
      ]
    },
    {
      "cell_type": "code",
      "execution_count": null,
      "id": "5e84e36c",
      "metadata": {
        "id": "5e84e36c",
        "outputId": "b5d70858-0e06-4083-8863-b012b94de93a"
      },
      "outputs": [
        {
          "data": {
            "text/html": [
              "<div>\n",
              "<style scoped>\n",
              "    .dataframe tbody tr th:only-of-type {\n",
              "        vertical-align: middle;\n",
              "    }\n",
              "\n",
              "    .dataframe tbody tr th {\n",
              "        vertical-align: top;\n",
              "    }\n",
              "\n",
              "    .dataframe thead th {\n",
              "        text-align: right;\n",
              "    }\n",
              "</style>\n",
              "<table border=\"1\" class=\"dataframe\">\n",
              "  <thead>\n",
              "    <tr style=\"text-align: right;\">\n",
              "      <th></th>\n",
              "      <th>Age</th>\n",
              "      <th>Experience</th>\n",
              "      <th>Seniority</th>\n",
              "      <th>Salary</th>\n",
              "    </tr>\n",
              "  </thead>\n",
              "  <tbody>\n",
              "    <tr>\n",
              "      <th>Age</th>\n",
              "      <td>1.000</td>\n",
              "      <td>0.984</td>\n",
              "      <td>0.884</td>\n",
              "      <td>0.857</td>\n",
              "    </tr>\n",
              "    <tr>\n",
              "      <th>Experience</th>\n",
              "      <td>0.984</td>\n",
              "      <td>1.000</td>\n",
              "      <td>0.905</td>\n",
              "      <td>0.882</td>\n",
              "    </tr>\n",
              "    <tr>\n",
              "      <th>Seniority</th>\n",
              "      <td>0.884</td>\n",
              "      <td>0.905</td>\n",
              "      <td>1.000</td>\n",
              "      <td>0.973</td>\n",
              "    </tr>\n",
              "    <tr>\n",
              "      <th>Salary</th>\n",
              "      <td>0.857</td>\n",
              "      <td>0.882</td>\n",
              "      <td>0.973</td>\n",
              "      <td>1.000</td>\n",
              "    </tr>\n",
              "  </tbody>\n",
              "</table>\n",
              "</div>"
            ],
            "text/plain": [
              "              Age  Experience  Seniority  Salary\n",
              "Age         1.000       0.984      0.884   0.857\n",
              "Experience  0.984       1.000      0.905   0.882\n",
              "Seniority   0.884       0.905      1.000   0.973\n",
              "Salary      0.857       0.882      0.973   1.000"
            ]
          },
          "execution_count": 4,
          "metadata": {},
          "output_type": "execute_result"
        }
      ],
      "source": [
        "data[['Age','Experience','Seniority','Salary']].corr().round(3)"
      ]
    },
    {
      "cell_type": "code",
      "execution_count": null,
      "id": "8b2cc5e7",
      "metadata": {
        "id": "8b2cc5e7",
        "outputId": "c989a07a-9299-4d24-94f3-648c1f9c1178"
      },
      "outputs": [
        {
          "data": {
            "text/html": [
              "<div>\n",
              "<style scoped>\n",
              "    .dataframe tbody tr th:only-of-type {\n",
              "        vertical-align: middle;\n",
              "    }\n",
              "\n",
              "    .dataframe tbody tr th {\n",
              "        vertical-align: top;\n",
              "    }\n",
              "\n",
              "    .dataframe thead th {\n",
              "        text-align: right;\n",
              "    }\n",
              "</style>\n",
              "<table border=\"1\" class=\"dataframe\">\n",
              "  <thead>\n",
              "    <tr style=\"text-align: right;\">\n",
              "      <th></th>\n",
              "      <th>Age</th>\n",
              "      <th>Experience</th>\n",
              "      <th>Seniority</th>\n",
              "      <th>Salary</th>\n",
              "    </tr>\n",
              "  </thead>\n",
              "  <tbody>\n",
              "    <tr>\n",
              "      <th>Age</th>\n",
              "      <td>118.344</td>\n",
              "      <td>99.599</td>\n",
              "      <td>68.853</td>\n",
              "      <td>2.088952e+05</td>\n",
              "    </tr>\n",
              "    <tr>\n",
              "      <th>Experience</th>\n",
              "      <td>99.599</td>\n",
              "      <td>86.594</td>\n",
              "      <td>60.312</td>\n",
              "      <td>1.839570e+05</td>\n",
              "    </tr>\n",
              "    <tr>\n",
              "      <th>Seniority</th>\n",
              "      <td>68.853</td>\n",
              "      <td>60.312</td>\n",
              "      <td>51.242</td>\n",
              "      <td>1.560628e+05</td>\n",
              "    </tr>\n",
              "    <tr>\n",
              "      <th>Salary</th>\n",
              "      <td>208895.166</td>\n",
              "      <td>183956.977</td>\n",
              "      <td>156062.758</td>\n",
              "      <td>5.018684e+08</td>\n",
              "    </tr>\n",
              "  </tbody>\n",
              "</table>\n",
              "</div>"
            ],
            "text/plain": [
              "                   Age  Experience   Seniority        Salary\n",
              "Age            118.344      99.599      68.853  2.088952e+05\n",
              "Experience      99.599      86.594      60.312  1.839570e+05\n",
              "Seniority       68.853      60.312      51.242  1.560628e+05\n",
              "Salary      208895.166  183956.977  156062.758  5.018684e+08"
            ]
          },
          "execution_count": 5,
          "metadata": {},
          "output_type": "execute_result"
        }
      ],
      "source": [
        "data[['Age','Experience','Seniority','Salary']].cov().round(3)"
      ]
    },
    {
      "cell_type": "code",
      "execution_count": null,
      "id": "5d880b22",
      "metadata": {
        "id": "5d880b22",
        "outputId": "51b2393c-7ab3-4dbf-fc5b-37c1fef072cd"
      },
      "outputs": [
        {
          "name": "stdout",
          "output_type": "stream",
          "text": [
            "                            OLS Regression Results                            \n",
            "==============================================================================\n",
            "Dep. Variable:                 Salary   R-squared:                       0.952\n",
            "Model:                            OLS   Adj. R-squared:                  0.951\n",
            "Method:                 Least Squares   F-statistic:                     1449.\n",
            "Date:                Mon, 23 Sep 2024   Prob (F-statistic):          1.68e-192\n",
            "Time:                        08:21:19   Log-Likelihood:                -2976.2\n",
            "No. Observations:                 300   AIC:                             5962.\n",
            "Df Residuals:                     295   BIC:                             5981.\n",
            "Df Model:                           4                                         \n",
            "Covariance Type:            nonrobust                                         \n",
            "====================================================================================================================\n",
            "                                                       coef    std err          t      P>|t|      [0.025      0.975]\n",
            "--------------------------------------------------------------------------------------------------------------------\n",
            "Intercept                                         4.971e+04   3815.818     13.028      0.000    4.22e+04    5.72e+04\n",
            "C(Gender, Treatment(reference=\"Male\"))[T.Female] -2967.6368    616.555     -4.813      0.000   -4181.041   -1754.232\n",
            "Age                                               -309.7444    148.123     -2.091      0.037    -601.255     -18.233\n",
            "Experience                                         388.6415    190.562      2.039      0.042      13.608     763.675\n",
            "Seniority                                         2997.9639     94.860     31.604      0.000    2811.276    3184.652\n",
            "==============================================================================\n",
            "Omnibus:                        4.924   Durbin-Watson:                   2.046\n",
            "Prob(Omnibus):                  0.085   Jarque-Bera (JB):                4.013\n",
            "Skew:                          -0.184   Prob(JB):                        0.134\n",
            "Kurtosis:                       2.569   Cond. No.                         629.\n",
            "==============================================================================\n",
            "\n",
            "Notes:\n",
            "[1] Standard Errors assume that the covariance matrix of the errors is correctly specified.\n"
          ]
        }
      ],
      "source": [
        "fullmodel = smf.ols(formula = 'Salary ~ C(Gender, Treatment(reference = \"Male\")) + Age + Experience + Seniority', data = data).fit()\n",
        "print(fullmodel.summary())"
      ]
    },
    {
      "cell_type": "code",
      "execution_count": null,
      "id": "22d1e7be",
      "metadata": {
        "id": "22d1e7be"
      },
      "outputs": [],
      "source": [
        "X = data[[ 'Gender', 'Age', 'Experience', 'Seniority']]\n",
        "X['Gender'] = X['Gender'].replace({'Male': 0, 'Female': 1})\n",
        "X = sm.add_constant(X)\n",
        "vif_data = pd.DataFrame()\n",
        "vif_data[\"feature\"] = X.columns\n",
        "vif_data[\"VIF\"] = [variance_inflation_factor(X.values, i) for i in range(X.shape[1])]"
      ]
    },
    {
      "cell_type": "code",
      "execution_count": null,
      "id": "f4899658",
      "metadata": {
        "id": "f4899658",
        "outputId": "3cf9200d-0d85-44d6-bc4d-bab0a758969d"
      },
      "outputs": [
        {
          "data": {
            "text/html": [
              "<div>\n",
              "<style scoped>\n",
              "    .dataframe tbody tr th:only-of-type {\n",
              "        vertical-align: middle;\n",
              "    }\n",
              "\n",
              "    .dataframe tbody tr th {\n",
              "        vertical-align: top;\n",
              "    }\n",
              "\n",
              "    .dataframe thead th {\n",
              "        text-align: right;\n",
              "    }\n",
              "</style>\n",
              "<table border=\"1\" class=\"dataframe\">\n",
              "  <thead>\n",
              "    <tr style=\"text-align: right;\">\n",
              "      <th></th>\n",
              "      <th>feature</th>\n",
              "      <th>VIF</th>\n",
              "    </tr>\n",
              "  </thead>\n",
              "  <tbody>\n",
              "    <tr>\n",
              "      <th>0</th>\n",
              "      <td>const</td>\n",
              "      <td>177.254120</td>\n",
              "    </tr>\n",
              "    <tr>\n",
              "      <th>1</th>\n",
              "      <td>Gender</td>\n",
              "      <td>1.001383</td>\n",
              "    </tr>\n",
              "    <tr>\n",
              "      <th>2</th>\n",
              "      <td>Age</td>\n",
              "      <td>31.503655</td>\n",
              "    </tr>\n",
              "    <tr>\n",
              "      <th>3</th>\n",
              "      <td>Experience</td>\n",
              "      <td>38.153090</td>\n",
              "    </tr>\n",
              "    <tr>\n",
              "      <th>4</th>\n",
              "      <td>Seniority</td>\n",
              "      <td>5.594549</td>\n",
              "    </tr>\n",
              "  </tbody>\n",
              "</table>\n",
              "</div>"
            ],
            "text/plain": [
              "      feature         VIF\n",
              "0       const  177.254120\n",
              "1      Gender    1.001383\n",
              "2         Age   31.503655\n",
              "3  Experience   38.153090\n",
              "4   Seniority    5.594549"
            ]
          },
          "execution_count": 8,
          "metadata": {},
          "output_type": "execute_result"
        }
      ],
      "source": [
        "vif_data"
      ]
    },
    {
      "cell_type": "code",
      "execution_count": null,
      "id": "1ec2ff5a",
      "metadata": {
        "id": "1ec2ff5a"
      },
      "outputs": [],
      "source": [
        "def calculate_r_squared_for_multicollinearity(df):\n",
        "    r_squared_values = {}\n",
        "    for column in df.columns:\n",
        "        y = df[column]\n",
        "        X = df.drop(columns=[column])\n",
        "        X = sm.add_constant(X)\n",
        "        model = sm.OLS(y, X).fit()\n",
        "        r_squared_values[column] = model.rsquared\n",
        "    return r_squared_values"
      ]
    },
    {
      "cell_type": "code",
      "execution_count": null,
      "id": "63792135",
      "metadata": {
        "id": "63792135",
        "outputId": "f41a766a-2265-4c87-90f7-3b6eaba3a0cc"
      },
      "outputs": [
        {
          "name": "stdout",
          "output_type": "stream",
          "text": [
            "                            OLS Regression Results                            \n",
            "==============================================================================\n",
            "Dep. Variable:                 Salary   R-squared:                       0.951\n",
            "Model:                            OLS   Adj. R-squared:                  0.950\n",
            "Method:                 Least Squares   F-statistic:                     2871.\n",
            "Date:                Mon, 23 Sep 2024   Prob (F-statistic):          5.33e-195\n",
            "Time:                        08:21:19   Log-Likelihood:                -2978.4\n",
            "No. Observations:                 300   AIC:                             5963.\n",
            "Df Residuals:                     297   BIC:                             5974.\n",
            "Df Model:                           2                                         \n",
            "Covariance Type:            nonrobust                                         \n",
            "====================================================================================================================\n",
            "                                                       coef    std err          t      P>|t|      [0.025      0.975]\n",
            "--------------------------------------------------------------------------------------------------------------------\n",
            "Intercept                                         4.187e+04    533.239     78.516      0.000    4.08e+04    4.29e+04\n",
            "C(Gender, Treatment(reference=\"Male\"))[T.Female] -2947.3322    619.005     -4.761      0.000   -4165.525   -1729.140\n",
            "Seniority                                         3039.2434     40.292     75.430      0.000    2959.949    3118.538\n",
            "==============================================================================\n",
            "Omnibus:                        4.646   Durbin-Watson:                   2.023\n",
            "Prob(Omnibus):                  0.098   Jarque-Bera (JB):                3.889\n",
            "Skew:                          -0.186   Prob(JB):                        0.143\n",
            "Kurtosis:                       2.585   Cond. No.                         29.2\n",
            "==============================================================================\n",
            "\n",
            "Notes:\n",
            "[1] Standard Errors assume that the covariance matrix of the errors is correctly specified.\n"
          ]
        }
      ],
      "source": [
        "model_no_coll = smf.ols(formula = 'Salary ~ C(Gender, Treatment(reference = \"Male\")) + Seniority', data = data).fit()\n",
        "print(model_no_coll.summary())"
      ]
    },
    {
      "cell_type": "code",
      "execution_count": null,
      "id": "10e6987a",
      "metadata": {
        "id": "10e6987a",
        "outputId": "9ab2b62b-8e73-42cb-d9cb-e1af077640e7"
      },
      "outputs": [
        {
          "data": {
            "text/html": [
              "<div>\n",
              "<style scoped>\n",
              "    .dataframe tbody tr th:only-of-type {\n",
              "        vertical-align: middle;\n",
              "    }\n",
              "\n",
              "    .dataframe tbody tr th {\n",
              "        vertical-align: top;\n",
              "    }\n",
              "\n",
              "    .dataframe thead th {\n",
              "        text-align: right;\n",
              "    }\n",
              "</style>\n",
              "<table border=\"1\" class=\"dataframe\">\n",
              "  <thead>\n",
              "    <tr style=\"text-align: right;\">\n",
              "      <th></th>\n",
              "      <th>feature</th>\n",
              "      <th>VIF</th>\n",
              "    </tr>\n",
              "  </thead>\n",
              "  <tbody>\n",
              "    <tr>\n",
              "      <th>0</th>\n",
              "      <td>const</td>\n",
              "      <td>3.433183</td>\n",
              "    </tr>\n",
              "    <tr>\n",
              "      <th>1</th>\n",
              "      <td>Gender</td>\n",
              "      <td>1.001097</td>\n",
              "    </tr>\n",
              "    <tr>\n",
              "      <th>2</th>\n",
              "      <td>Seniority</td>\n",
              "      <td>1.001097</td>\n",
              "    </tr>\n",
              "  </tbody>\n",
              "</table>\n",
              "</div>"
            ],
            "text/plain": [
              "     feature       VIF\n",
              "0      const  3.433183\n",
              "1     Gender  1.001097\n",
              "2  Seniority  1.001097"
            ]
          },
          "execution_count": 11,
          "metadata": {},
          "output_type": "execute_result"
        }
      ],
      "source": [
        "X = data[[ 'Gender', 'Seniority']]\n",
        "X['Gender'] = X['Gender'].replace({'Male': 0, 'Female': 1})\n",
        "X = sm.add_constant(X)\n",
        "vif_data = pd.DataFrame()\n",
        "vif_data[\"feature\"] = X.columns\n",
        "vif_data[\"VIF\"] = [variance_inflation_factor(X.values, i) for i in range(X.shape[1])]\n",
        "vif_data"
      ]
    },
    {
      "cell_type": "code",
      "execution_count": null,
      "id": "f1216bae",
      "metadata": {
        "id": "f1216bae",
        "outputId": "59e6f1cd-195d-4b62-cc68-c669f6a06349"
      },
      "outputs": [
        {
          "data": {
            "text/plain": [
              "{'Gender': 0.0010960033515244882, 'Seniority': 0.0010960033515249323}"
            ]
          },
          "execution_count": 13,
          "metadata": {},
          "output_type": "execute_result"
        }
      ],
      "source": [
        "calculate_r_squared_for_multicollinearity(X[['Gender','Seniority']])"
      ]
    },
    {
      "cell_type": "code",
      "execution_count": null,
      "id": "ae79b68f",
      "metadata": {
        "id": "ae79b68f"
      },
      "outputs": [],
      "source": []
    }
  ],
  "metadata": {
    "kernelspec": {
      "display_name": "Python 3 (ipykernel)",
      "language": "python",
      "name": "python3"
    },
    "language_info": {
      "codemirror_mode": {
        "name": "ipython",
        "version": 3
      },
      "file_extension": ".py",
      "mimetype": "text/x-python",
      "name": "python",
      "nbconvert_exporter": "python",
      "pygments_lexer": "ipython3",
      "version": "3.10.9"
    },
    "colab": {
      "provenance": [],
      "include_colab_link": true
    }
  },
  "nbformat": 4,
  "nbformat_minor": 5
}