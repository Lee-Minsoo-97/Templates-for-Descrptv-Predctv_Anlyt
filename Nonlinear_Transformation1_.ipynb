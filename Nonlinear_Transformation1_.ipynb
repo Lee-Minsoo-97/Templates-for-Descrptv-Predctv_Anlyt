{
  "cells": [
    {
      "cell_type": "markdown",
      "metadata": {
        "id": "view-in-github",
        "colab_type": "text"
      },
      "source": [
        "<a href=\"https://colab.research.google.com/github/Lee-Minsoo-97/Templates-for-Descrptv-Predctv_Anlyt/blob/main/Nonlinear_Transformation1_.ipynb\" target=\"_parent\"><img src=\"https://colab.research.google.com/assets/colab-badge.svg\" alt=\"Open In Colab\"/></a>"
      ]
    },
    {
      "cell_type": "code",
      "execution_count": null,
      "id": "450306c3",
      "metadata": {
        "id": "450306c3"
      },
      "outputs": [],
      "source": [
        "import pandas as pd\n",
        "import numpy as np\n",
        "import statsmodels.formula.api as smf\n",
        "from statsmodels.stats.anova import anova_lm\n",
        "import matplotlib.pyplot as plt"
      ]
    },
    {
      "cell_type": "code",
      "execution_count": null,
      "id": "a0c3bf02",
      "metadata": {
        "id": "a0c3bf02"
      },
      "outputs": [],
      "source": [
        "data = pd.read_excel('Learning Curve.xlsx')"
      ]
    },
    {
      "cell_type": "code",
      "execution_count": null,
      "id": "d6a46580",
      "metadata": {
        "id": "d6a46580",
        "outputId": "d6807c4f-75e3-4a53-f238-cfa15ac787ec"
      },
      "outputs": [
        {
          "data": {
            "text/html": [
              "<div>\n",
              "<style scoped>\n",
              "    .dataframe tbody tr th:only-of-type {\n",
              "        vertical-align: middle;\n",
              "    }\n",
              "\n",
              "    .dataframe tbody tr th {\n",
              "        vertical-align: top;\n",
              "    }\n",
              "\n",
              "    .dataframe thead th {\n",
              "        text-align: right;\n",
              "    }\n",
              "</style>\n",
              "<table border=\"1\" class=\"dataframe\">\n",
              "  <thead>\n",
              "    <tr style=\"text-align: right;\">\n",
              "      <th></th>\n",
              "      <th>Batch</th>\n",
              "      <th>Time</th>\n",
              "    </tr>\n",
              "  </thead>\n",
              "  <tbody>\n",
              "    <tr>\n",
              "      <th>0</th>\n",
              "      <td>1</td>\n",
              "      <td>125.00</td>\n",
              "    </tr>\n",
              "    <tr>\n",
              "      <th>1</th>\n",
              "      <td>2</td>\n",
              "      <td>110.87</td>\n",
              "    </tr>\n",
              "    <tr>\n",
              "      <th>2</th>\n",
              "      <td>3</td>\n",
              "      <td>105.35</td>\n",
              "    </tr>\n",
              "    <tr>\n",
              "      <th>3</th>\n",
              "      <td>4</td>\n",
              "      <td>103.34</td>\n",
              "    </tr>\n",
              "    <tr>\n",
              "      <th>4</th>\n",
              "      <td>5</td>\n",
              "      <td>98.98</td>\n",
              "    </tr>\n",
              "  </tbody>\n",
              "</table>\n",
              "</div>"
            ],
            "text/plain": [
              "   Batch    Time\n",
              "0      1  125.00\n",
              "1      2  110.87\n",
              "2      3  105.35\n",
              "3      4  103.34\n",
              "4      5   98.98"
            ]
          },
          "execution_count": 4,
          "metadata": {},
          "output_type": "execute_result"
        }
      ],
      "source": [
        "data.head()"
      ]
    },
    {
      "cell_type": "code",
      "execution_count": null,
      "id": "197d4148",
      "metadata": {
        "id": "197d4148",
        "outputId": "7c906b87-7a64-4ac4-8c72-589672ce1fad"
      },
      "outputs": [
        {
          "data": {
            "text/plain": [
              "<matplotlib.collections.PathCollection at 0x241da9751d0>"
            ]
          },
          "execution_count": 5,
          "metadata": {},
          "output_type": "execute_result"
        },
        {
          "data": {
            "image/png": "[encoded data removed]",
            "text/plain": [
              "<Figure size 640x480 with 1 Axes>"
            ]
          },
          "metadata": {},
          "output_type": "display_data"
        }
      ],
      "source": [
        "plt.scatter(data['Batch'], data['Time'])"
      ]
    },
    {
      "cell_type": "markdown",
      "id": "e55c2201",
      "metadata": {
        "id": "e55c2201"
      },
      "source": [
        "# Simple Linear Regression: Time ~ Batch"
      ]
    },
    {
      "cell_type": "code",
      "execution_count": null,
      "id": "f4883389",
      "metadata": {
        "id": "f4883389",
        "outputId": "564bdc88-4dbe-45a8-fb68-6d8f47b5beb7"
      },
      "outputs": [
        {
          "name": "stdout",
          "output_type": "stream",
          "text": [
            "                            OLS Regression Results                            \n",
            "==============================================================================\n",
            "Dep. Variable:                   Time   R-squared:                       0.793\n",
            "Model:                            OLS   Adj. R-squared:                  0.783\n",
            "Method:                 Least Squares   F-statistic:                     76.67\n",
            "Date:                Tue, 10 Sep 2024   Prob (F-statistic):           2.81e-08\n",
            "Time:                        18:18:41   Log-Likelihood:                -68.978\n",
            "No. Observations:                  22   AIC:                             142.0\n",
            "Df Residuals:                      20   BIC:                             144.1\n",
            "Df Model:                           1                                         \n",
            "Covariance Type:            nonrobust                                         \n",
            "==============================================================================\n",
            "                 coef    std err          t      P>|t|      [0.025      0.975]\n",
            "------------------------------------------------------------------------------\n",
            "Intercept    109.8556      2.576     42.647      0.000     104.482     115.229\n",
            "Batch         -1.7174      0.196     -8.756      0.000      -2.126      -1.308\n",
            "==============================================================================\n",
            "Omnibus:                        8.884   Durbin-Watson:                   0.657\n",
            "Prob(Omnibus):                  0.012   Jarque-Bera (JB):                6.604\n",
            "Skew:                           1.048   Prob(JB):                       0.0368\n",
            "Kurtosis:                       4.678   Cond. No.                         27.3\n",
            "==============================================================================\n",
            "\n",
            "Notes:\n",
            "[1] Standard Errors assume that the covariance matrix of the errors is correctly specified.\n"
          ]
        }
      ],
      "source": [
        "model_TB = smf.ols('Time~Batch',data = data).fit()\n",
        "print(model_TB.summary())"
      ]
    },
    {
      "cell_type": "code",
      "execution_count": null,
      "id": "5eb2526b",
      "metadata": {
        "id": "5eb2526b",
        "outputId": "6c058493-ab75-4144-e8ab-956b2e328c2d"
      },
      "outputs": [
        {
          "data": {
            "image/png": "[encoded data removed]",
            "text/plain": [
              "<Figure size 640x480 with 1 Axes>"
            ]
          },
          "metadata": {},
          "output_type": "display_data"
        }
      ],
      "source": [
        "fitted_values = model_TB.fittedvalues\n",
        "residuals = model_TB.resid\n",
        "plt.scatter(fitted_values, residuals)\n",
        "plt.axhline(0, color='red', linestyle='--')\n",
        "plt.xlabel('Fitted Values')\n",
        "plt.ylabel('Residuals')\n",
        "plt.title('Residual Plot')\n",
        "plt.show()"
      ]
    },
    {
      "cell_type": "markdown",
      "id": "0714ce9c",
      "metadata": {
        "id": "0714ce9c"
      },
      "source": [
        "# $\\log$(Time) ~ $\\log$(Batch)"
      ]
    },
    {
      "cell_type": "code",
      "execution_count": null,
      "id": "4be04ece",
      "metadata": {
        "id": "4be04ece",
        "outputId": "eff4da95-e622-41e5-b948-16408835361e"
      },
      "outputs": [
        {
          "name": "stdout",
          "output_type": "stream",
          "text": [
            "                            OLS Regression Results                            \n",
            "==============================================================================\n",
            "Dep. Variable:           np.log(Time)   R-squared:                       0.950\n",
            "Model:                            OLS   Adj. R-squared:                  0.948\n",
            "Method:                 Least Squares   F-statistic:                     381.4\n",
            "Date:                Tue, 10 Sep 2024   Prob (F-statistic):           1.70e-14\n",
            "Time:                        18:20:39   Log-Likelihood:                 47.049\n",
            "No. Observations:                  22   AIC:                            -90.10\n",
            "Df Residuals:                      20   BIC:                            -87.92\n",
            "Df Model:                           1                                         \n",
            "Covariance Type:            nonrobust                                         \n",
            "=================================================================================\n",
            "                    coef    std err          t      P>|t|      [0.025      0.975]\n",
            "---------------------------------------------------------------------------------\n",
            "Intercept         4.8340      0.019    259.730      0.000       4.795       4.873\n",
            "np.log(Batch)    -0.1550      0.008    -19.529      0.000      -0.172      -0.138\n",
            "==============================================================================\n",
            "Omnibus:                        0.677   Durbin-Watson:                   2.068\n",
            "Prob(Omnibus):                  0.713   Jarque-Bera (JB):                0.656\n",
            "Skew:                          -0.067   Prob(JB):                        0.720\n",
            "Kurtosis:                       2.165   Cond. No.                         7.97\n",
            "==============================================================================\n",
            "\n",
            "Notes:\n",
            "[1] Standard Errors assume that the covariance matrix of the errors is correctly specified.\n"
          ]
        }
      ],
      "source": [
        "model_LtLb = smf.ols('np.log(Time)~np.log(Batch)',data = data).fit()\n",
        "print(model_LtLb.summary())"
      ]
    },
    {
      "cell_type": "code",
      "execution_count": null,
      "id": "f9da7d12",
      "metadata": {
        "id": "f9da7d12",
        "outputId": "11c5d53f-54d8-4cec-eb10-201b0a6d0837"
      },
      "outputs": [
        {
          "data": {
            "image/png": "[encoded data removed]",
            "text/plain": [
              "<Figure size 640x480 with 1 Axes>"
            ]
          },
          "metadata": {},
          "output_type": "display_data"
        }
      ],
      "source": [
        "fitted_values = model_LtLb.fittedvalues\n",
        "residuals = model_LtLb.resid\n",
        "plt.scatter(fitted_values, residuals)\n",
        "plt.axhline(0, color='red', linestyle='--')\n",
        "plt.xlabel('Fitted Values')\n",
        "plt.ylabel('Residuals')\n",
        "plt.title('Residual Plot')\n",
        "plt.show()"
      ]
    },
    {
      "cell_type": "code",
      "execution_count": null,
      "id": "3be39e1d",
      "metadata": {
        "id": "3be39e1d"
      },
      "outputs": [],
      "source": []
    }
  ],
  "metadata": {
    "kernelspec": {
      "display_name": "Python 3 (ipykernel)",
      "language": "python",
      "name": "python3"
    },
    "language_info": {
      "codemirror_mode": {
        "name": "ipython",
        "version": 3
      },
      "file_extension": ".py",
      "mimetype": "text/x-python",
      "name": "python",
      "nbconvert_exporter": "python",
      "pygments_lexer": "ipython3",
      "version": "3.11.5"
    },
    "colab": {
      "provenance": [],
      "include_colab_link": true
    }
  },
  "nbformat": 4,
  "nbformat_minor": 5
}