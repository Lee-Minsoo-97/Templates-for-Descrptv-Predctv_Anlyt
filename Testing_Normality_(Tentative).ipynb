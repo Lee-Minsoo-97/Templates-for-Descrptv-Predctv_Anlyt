{
  "cells": [
    {
      "cell_type": "markdown",
      "metadata": {
        "id": "view-in-github",
        "colab_type": "text"
      },
      "source": [
        "<a href=\"https://colab.research.google.com/github/Lee-Minsoo-97/Templates-for-Descrptv-Predctv_Anlyt/blob/main/Testing_Normality_(Tentative).ipynb\" target=\"_parent\"><img src=\"https://colab.research.google.com/assets/colab-badge.svg\" alt=\"Open In Colab\"/></a>"
      ]
    },
    {
      "cell_type": "code",
      "execution_count": null,
      "id": "92e59cc5",
      "metadata": {
        "id": "92e59cc5"
      },
      "outputs": [],
      "source": [
        "import pandas as pd\n",
        "import numpy as np\n",
        "from scipy.stats import chi2, norm, chisquare\n",
        "import matplotlib.pyplot as plt\n",
        "def chi_square_bin_edges(num_bins, data):\n",
        "    percentiles = np.linspace(0, 100, num_bins + 1)\n",
        "    bin_edges = norm.ppf(percentiles / 100, loc=np.mean(data), scale=np.std(data, ddof = 1))\n",
        "    return bin_edges"
      ]
    },
    {
      "cell_type": "code",
      "execution_count": null,
      "id": "61827378",
      "metadata": {
        "id": "61827378"
      },
      "outputs": [],
      "source": [
        "sig = 0.05\n",
        "data = pd.read_excel('Testing Normality.xlsx', sheet_name = None)"
      ]
    },
    {
      "cell_type": "code",
      "execution_count": null,
      "id": "9590343c",
      "metadata": {
        "id": "9590343c",
        "outputId": "d172765d-e3f8-4efe-c343-5b4f95ae10ef"
      },
      "outputs": [
        {
          "data": {
            "text/plain": [
              "dict_keys(['Data', '_PalUtilTempWorksheet', '_STDS_DGAF604FA', 'Chi-Sq Test', 'Chi-Sq Test (2)', 'Lilliefors Test', 'Q-Q Plot'])"
            ]
          },
          "execution_count": 3,
          "metadata": {},
          "output_type": "execute_result"
        }
      ],
      "source": [
        "data.keys()"
      ]
    },
    {
      "cell_type": "code",
      "execution_count": null,
      "id": "b308a33f",
      "metadata": {
        "id": "b308a33f"
      },
      "outputs": [],
      "source": [
        "df =  data['Data']"
      ]
    },
    {
      "cell_type": "code",
      "execution_count": null,
      "id": "c27d46bd",
      "metadata": {
        "id": "c27d46bd",
        "outputId": "910b13ca-62e0-4b62-f3f5-9a3ec226650d"
      },
      "outputs": [
        {
          "data": {
            "text/html": [
              "<div>\n",
              "<style scoped>\n",
              "    .dataframe tbody tr th:only-of-type {\n",
              "        vertical-align: middle;\n",
              "    }\n",
              "\n",
              "    .dataframe tbody tr th {\n",
              "        vertical-align: top;\n",
              "    }\n",
              "\n",
              "    .dataframe thead th {\n",
              "        text-align: right;\n",
              "    }\n",
              "</style>\n",
              "<table border=\"1\" class=\"dataframe\">\n",
              "  <thead>\n",
              "    <tr style=\"text-align: right;\">\n",
              "      <th></th>\n",
              "      <th>Part</th>\n",
              "      <th>Width</th>\n",
              "    </tr>\n",
              "  </thead>\n",
              "  <tbody>\n",
              "    <tr>\n",
              "      <th>0</th>\n",
              "      <td>1</td>\n",
              "      <td>9.990</td>\n",
              "    </tr>\n",
              "    <tr>\n",
              "      <th>1</th>\n",
              "      <td>2</td>\n",
              "      <td>10.031</td>\n",
              "    </tr>\n",
              "    <tr>\n",
              "      <th>2</th>\n",
              "      <td>3</td>\n",
              "      <td>9.985</td>\n",
              "    </tr>\n",
              "    <tr>\n",
              "      <th>3</th>\n",
              "      <td>4</td>\n",
              "      <td>9.983</td>\n",
              "    </tr>\n",
              "    <tr>\n",
              "      <th>4</th>\n",
              "      <td>5</td>\n",
              "      <td>10.004</td>\n",
              "    </tr>\n",
              "    <tr>\n",
              "      <th>...</th>\n",
              "      <td>...</td>\n",
              "      <td>...</td>\n",
              "    </tr>\n",
              "    <tr>\n",
              "      <th>85</th>\n",
              "      <td>86</td>\n",
              "      <td>9.977</td>\n",
              "    </tr>\n",
              "    <tr>\n",
              "      <th>86</th>\n",
              "      <td>87</td>\n",
              "      <td>10.004</td>\n",
              "    </tr>\n",
              "    <tr>\n",
              "      <th>87</th>\n",
              "      <td>88</td>\n",
              "      <td>10.007</td>\n",
              "    </tr>\n",
              "    <tr>\n",
              "      <th>88</th>\n",
              "      <td>89</td>\n",
              "      <td>10.003</td>\n",
              "    </tr>\n",
              "    <tr>\n",
              "      <th>89</th>\n",
              "      <td>90</td>\n",
              "      <td>9.996</td>\n",
              "    </tr>\n",
              "  </tbody>\n",
              "</table>\n",
              "<p>90 rows × 2 columns</p>\n",
              "</div>"
            ],
            "text/plain": [
              "    Part   Width\n",
              "0      1   9.990\n",
              "1      2  10.031\n",
              "2      3   9.985\n",
              "3      4   9.983\n",
              "4      5  10.004\n",
              "..   ...     ...\n",
              "85    86   9.977\n",
              "86    87  10.004\n",
              "87    88  10.007\n",
              "88    89  10.003\n",
              "89    90   9.996\n",
              "\n",
              "[90 rows x 2 columns]"
            ]
          },
          "execution_count": 5,
          "metadata": {},
          "output_type": "execute_result"
        }
      ],
      "source": [
        "df"
      ]
    },
    {
      "cell_type": "code",
      "execution_count": null,
      "id": "14634f51",
      "metadata": {
        "id": "14634f51"
      },
      "outputs": [],
      "source": []
    },
    {
      "cell_type": "code",
      "execution_count": null,
      "id": "3713021f",
      "metadata": {
        "id": "3713021f",
        "outputId": "5d269db4-7c8e-45fa-afd4-cce16e82d82b"
      },
      "outputs": [
        {
          "name": "stdout",
          "output_type": "stream",
          "text": [
            "Chi-Square Statistic: 6.177801224825118\n",
            "P-Value: 0.2893005852413477\n",
            "The data follows a normal distribution (fail to reject the null hypothesis).\n"
          ]
        }
      ],
      "source": [
        "num_bins = 8\n",
        "observed_freq, bin_edges = np.histogram(df['Width'], bins=chi_square_bin_edges(num_bins,df['Width']))\n",
        "bin_centers = (bin_edges[:-1] + bin_edges[1:]) / 2\n",
        "\n",
        "# Calculate expected frequencies based on the normal distribution\n",
        "mu = round(np.mean(df['Width']),6)\n",
        "std = np.std(df['Width'],ddof = 1)\n",
        "expected_freq = []\n",
        "for i in range(len(bin_edges)-1):\n",
        "    if i == 0:\n",
        "        expected_freq.append(len(df['Width']) * (norm.cdf(bin_edges[i+1], loc = mu, scale = std ) - 0))\n",
        "    elif i == len(bin_edges)-1:\n",
        "        expected_freq.append(len(df['Width']) * (1 - norm.cdf(bin_edges[i], loc = mu, scale = std)))\n",
        "    else:\n",
        "        expected_freq.append(len(df['Width']) * (norm.cdf(bin_edges[i+1], loc = mu, scale = std ) - norm.cdf(bin_edges[i], loc = mu, scale = std)))\n",
        "\n",
        "# # Step 3: Perform the Chi-Square Test\n",
        "chi_statistic = np.sum((observed_freq - np.array(expected_freq))**2/np.array(expected_freq))\n",
        "pval = 1 - chi2.cdf(chi_statistic, df=num_bins-3)\n",
        "# # Step 4: Interpret Results\n",
        "print(f\"Chi-Square Statistic: {chi_statistic}\")\n",
        "print(f\"P-Value: {pval}\")\n",
        "\n",
        "if pval > sig:\n",
        "    print(\"The data follows a normal distribution (fail to reject the null hypothesis).\")\n",
        "else:\n",
        "    print(\"The data does not follow a normal distribution (reject the null hypothesis).\")"
      ]
    },
    {
      "cell_type": "code",
      "execution_count": null,
      "id": "91241c16",
      "metadata": {
        "id": "91241c16"
      },
      "outputs": [],
      "source": [
        "# np.array([       -np.inf, 9.983000,  9.988167,  9.993333 ,  9.998500,\n",
        "#        10.003667, 10.008833, 10.01400,         np.inf])\n",
        "#note: the result is very sensitive on the construction of bins"
      ]
    },
    {
      "cell_type": "code",
      "execution_count": null,
      "id": "a3de8514",
      "metadata": {
        "id": "a3de8514"
      },
      "outputs": [],
      "source": [
        "normaltest(df['Width'])"
      ]
    },
    {
      "cell_type": "code",
      "execution_count": null,
      "id": "ca48b9f0",
      "metadata": {
        "id": "ca48b9f0"
      },
      "outputs": [],
      "source": []
    },
    {
      "cell_type": "code",
      "execution_count": null,
      "id": "e9f57c19",
      "metadata": {
        "id": "e9f57c19",
        "outputId": "496591de-c1fb-42cd-e95b-cff6f537efbc"
      },
      "outputs": [
        {
          "data": {
            "text/plain": [
              "NormaltestResult(statistic=3.0275629294294992, pvalue=0.22007619213198976)"
            ]
          },
          "execution_count": 49,
          "metadata": {},
          "output_type": "execute_result"
        }
      ],
      "source": []
    },
    {
      "cell_type": "code",
      "execution_count": null,
      "id": "fa6452ac",
      "metadata": {
        "id": "fa6452ac",
        "outputId": "57d7fbc8-cdbe-4675-c720-dff7cd2adb3f"
      },
      "outputs": [
        {
          "data": {
            "text/plain": [
              "(0.05134523411613179, 0.8358213315196279)"
            ]
          },
          "execution_count": 72,
          "metadata": {},
          "output_type": "execute_result"
        }
      ],
      "source": [
        "import statsmodels.api as sm\n",
        "Lilliefors_statistic,Lilliefors_p_value=sm.stats.diagnostic.lilliefors(df['Width'],dist = 'norm')\n",
        "Lilliefors_statistic,Lilliefors_p_value"
      ]
    },
    {
      "cell_type": "code",
      "execution_count": null,
      "id": "44d34c78",
      "metadata": {
        "id": "44d34c78"
      },
      "outputs": [],
      "source": []
    },
    {
      "cell_type": "code",
      "execution_count": null,
      "id": "f9341809",
      "metadata": {
        "id": "f9341809",
        "outputId": "7ad02e26-30ec-4389-dff4-e655a7754e99"
      },
      "outputs": [
        {
          "data": {
            "text/plain": [
              "False"
            ]
          },
          "execution_count": 65,
          "metadata": {},
          "output_type": "execute_result"
        }
      ],
      "source": [
        "standardized_data = (df['Width'] - mu)/std\n",
        "\n",
        "sorted_data = np.sort(standardized_data)\n",
        "\n",
        "n = len(sorted_data)\n",
        "ecdf = np.arange(1, n + 1) / n\n",
        "\n",
        "theoretical_cdf = norm.cdf(sorted_data)\n",
        "D = np.max(np.abs(ecdf - theoretical_cdf))\n",
        "\n",
        "critical_value = 0.886 / np.sqrt(n)\n",
        "reject_null = D > critical_value\n",
        "reject_null"
      ]
    },
    {
      "cell_type": "code",
      "execution_count": null,
      "id": "040d60cd",
      "metadata": {
        "id": "040d60cd",
        "outputId": "875bc8fd-ae49-4a7a-a151-1408f9d20d9c"
      },
      "outputs": [
        {
          "data": {
            "image/png": "[encoded data removed]",
            "text/plain": [
              "<Figure size 1000x600 with 1 Axes>"
            ]
          },
          "metadata": {},
          "output_type": "display_data"
        }
      ],
      "source": [
        "plt.figure(figsize=(10, 6))\n",
        "plt.step(sorted_data, ecdf, label='Empirical CDF', where='post')\n",
        "plt.plot(sorted_data, theoretical_cdf, label='Theoretical CDF (Normal Distribution)', linestyle='--')\n",
        "\n",
        "# Adding labels and title\n",
        "plt.xlabel('Standardized Data')\n",
        "plt.ylabel('CDF')\n",
        "plt.title('Empirical CDF vs Theoretical CDF')\n",
        "plt.legend()\n",
        "\n",
        "# Display the plot\n",
        "plt.grid(True)\n",
        "plt.show()"
      ]
    },
    {
      "cell_type": "code",
      "execution_count": null,
      "id": "13f28dba",
      "metadata": {
        "id": "13f28dba",
        "outputId": "c52b5135-81ee-49be-e3b2-c1e0ce1341dd"
      },
      "outputs": [
        {
          "data": {
            "image/png": "[encoded data removed]",
            "text/plain": [
              "<Figure size 640x480 with 1 Axes>"
            ]
          },
          "metadata": {},
          "output_type": "display_data"
        }
      ],
      "source": [
        "#Q-Q plot\n",
        "import scipy.stats as stats\n",
        "stats.probplot(standardized_data,dist=\"norm\", plot=plt)\n",
        "plt.gca().get_lines()[0].set_marker('x')  # Set marker shape to 'o'\n",
        "plt.gca().get_lines()[0].set_markersize(3)  # Set marker size\n",
        "# Adding labels and title\n",
        "plt.title(\"Q-Q Plot for Normality Test\")\n",
        "plt.xlabel(\"Theoretical Quantiles\")\n",
        "plt.ylabel(\"Sample Quantiles\")\n",
        "\n",
        "# Display the plot\n",
        "plt.grid(True)\n",
        "plt.show()"
      ]
    },
    {
      "cell_type": "code",
      "execution_count": null,
      "id": "3ef79ee6",
      "metadata": {
        "id": "3ef79ee6"
      },
      "outputs": [],
      "source": []
    }
  ],
  "metadata": {
    "kernelspec": {
      "display_name": "Python 3 (ipykernel)",
      "language": "python",
      "name": "python3"
    },
    "language_info": {
      "codemirror_mode": {
        "name": "ipython",
        "version": 3
      },
      "file_extension": ".py",
      "mimetype": "text/x-python",
      "name": "python",
      "nbconvert_exporter": "python",
      "pygments_lexer": "ipython3",
      "version": "3.11.4"
    },
    "colab": {
      "provenance": [],
      "include_colab_link": true
    }
  },
  "nbformat": 4,
  "nbformat_minor": 5
}