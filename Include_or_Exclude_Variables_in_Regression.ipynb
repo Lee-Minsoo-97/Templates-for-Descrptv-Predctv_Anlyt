{
  "cells": [
    {
      "cell_type": "markdown",
      "metadata": {
        "id": "view-in-github",
        "colab_type": "text"
      },
      "source": [
        "<a href=\"https://colab.research.google.com/github/Lee-Minsoo-97/Templates-for-Descrptv-Predctv_Anlyt/blob/main/Include_or_Exclude_Variables_in_Regression.ipynb\" target=\"_parent\"><img src=\"https://colab.research.google.com/assets/colab-badge.svg\" alt=\"Open In Colab\"/></a>"
      ]
    },
    {
      "cell_type": "markdown",
      "id": "8b927613",
      "metadata": {
        "id": "8b927613"
      },
      "source": [
        "# Include or Exclude Variables in Regression\n",
        "\n",
        "This python file is designed to include or exclude explainatory variables in regression analysis.\n"
      ]
    },
    {
      "cell_type": "code",
      "execution_count": null,
      "id": "2bfe2617",
      "metadata": {
        "id": "2bfe2617"
      },
      "outputs": [],
      "source": [
        "#This file is part of SCM 516, a coursework given at Arizona State University for the MSBA program, and is copywritten. It may not be reproduced or posted online without permission."
      ]
    },
    {
      "cell_type": "code",
      "execution_count": null,
      "id": "c705f7cb",
      "metadata": {
        "id": "c705f7cb"
      },
      "outputs": [],
      "source": [
        "import pandas as pd\n",
        "import numpy as np\n",
        "import statsmodels.formula.api as smf\n",
        "import statsmodels.api as sm\n",
        "from statsmodels.stats.outliers_influence import variance_inflation_factor"
      ]
    },
    {
      "cell_type": "code",
      "execution_count": null,
      "id": "8249fb58",
      "metadata": {
        "id": "8249fb58",
        "outputId": "724e941a-e511-40d1-b375-aaf819b3d154"
      },
      "outputs": [
        {
          "name": "stderr",
          "output_type": "stream",
          "text": [
            "C:\\Users\\yangy\\anaconda3\\lib\\site-packages\\openpyxl\\worksheet\\header_footer.py:48: UserWarning: Cannot parse header or footer so it will be ignored\n",
            "  warn(\"\"\"Cannot parse header or footer so it will be ignored\"\"\")\n"
          ]
        },
        {
          "data": {
            "text/plain": [
              "dict_keys(['Data', '_PalUtilTempWorksheet', '_STDS_DG1B9A3C08', 'Regression', 'Regression (2)', 'Regression (3)', 'Regression (4)', 'Regression (5)', 'Regression (6)'])"
            ]
          },
          "execution_count": 3,
          "metadata": {},
          "output_type": "execute_result"
        }
      ],
      "source": [
        "workbook = pd.read_excel('Catalog Marketing Include_Exclude Example.xlsx', sheet_name = None)\n",
        "workbook.keys()"
      ]
    },
    {
      "cell_type": "code",
      "execution_count": null,
      "id": "4c93d817",
      "metadata": {
        "id": "4c93d817",
        "outputId": "0a1b4e99-7dc2-4de2-da6d-231a90df4644"
      },
      "outputs": [
        {
          "data": {
            "text/html": [
              "<div>\n",
              "<style scoped>\n",
              "    .dataframe tbody tr th:only-of-type {\n",
              "        vertical-align: middle;\n",
              "    }\n",
              "\n",
              "    .dataframe tbody tr th {\n",
              "        vertical-align: top;\n",
              "    }\n",
              "\n",
              "    .dataframe thead th {\n",
              "        text-align: right;\n",
              "    }\n",
              "</style>\n",
              "<table border=\"1\" class=\"dataframe\">\n",
              "  <thead>\n",
              "    <tr style=\"text-align: right;\">\n",
              "      <th></th>\n",
              "      <th>Customer</th>\n",
              "      <th>Age</th>\n",
              "      <th>Gender</th>\n",
              "      <th>Own Home</th>\n",
              "      <th>Married</th>\n",
              "      <th>Close</th>\n",
              "      <th>Salary</th>\n",
              "      <th>Children</th>\n",
              "      <th>Previous Customer</th>\n",
              "      <th>Previous Spent</th>\n",
              "      <th>Catalogs</th>\n",
              "      <th>Amount Spent</th>\n",
              "    </tr>\n",
              "  </thead>\n",
              "  <tbody>\n",
              "    <tr>\n",
              "      <th>0</th>\n",
              "      <td>1</td>\n",
              "      <td>73</td>\n",
              "      <td>0</td>\n",
              "      <td>0</td>\n",
              "      <td>0</td>\n",
              "      <td>1</td>\n",
              "      <td>16400</td>\n",
              "      <td>1</td>\n",
              "      <td>1</td>\n",
              "      <td>246.0</td>\n",
              "      <td>12</td>\n",
              "      <td>217.691</td>\n",
              "    </tr>\n",
              "    <tr>\n",
              "      <th>1</th>\n",
              "      <td>2</td>\n",
              "      <td>22</td>\n",
              "      <td>0</td>\n",
              "      <td>1</td>\n",
              "      <td>1</td>\n",
              "      <td>0</td>\n",
              "      <td>108100</td>\n",
              "      <td>3</td>\n",
              "      <td>1</td>\n",
              "      <td>1621.5</td>\n",
              "      <td>18</td>\n",
              "      <td>2632.462</td>\n",
              "    </tr>\n",
              "    <tr>\n",
              "      <th>2</th>\n",
              "      <td>3</td>\n",
              "      <td>51</td>\n",
              "      <td>1</td>\n",
              "      <td>1</td>\n",
              "      <td>1</td>\n",
              "      <td>1</td>\n",
              "      <td>97300</td>\n",
              "      <td>1</td>\n",
              "      <td>0</td>\n",
              "      <td>0.0</td>\n",
              "      <td>12</td>\n",
              "      <td>3047.563</td>\n",
              "    </tr>\n",
              "    <tr>\n",
              "      <th>3</th>\n",
              "      <td>4</td>\n",
              "      <td>48</td>\n",
              "      <td>1</td>\n",
              "      <td>1</td>\n",
              "      <td>1</td>\n",
              "      <td>1</td>\n",
              "      <td>26800</td>\n",
              "      <td>0</td>\n",
              "      <td>1</td>\n",
              "      <td>536.0</td>\n",
              "      <td>12</td>\n",
              "      <td>434.606</td>\n",
              "    </tr>\n",
              "    <tr>\n",
              "      <th>4</th>\n",
              "      <td>5</td>\n",
              "      <td>57</td>\n",
              "      <td>1</td>\n",
              "      <td>0</td>\n",
              "      <td>0</td>\n",
              "      <td>1</td>\n",
              "      <td>11200</td>\n",
              "      <td>0</td>\n",
              "      <td>0</td>\n",
              "      <td>0.0</td>\n",
              "      <td>6</td>\n",
              "      <td>105.624</td>\n",
              "    </tr>\n",
              "  </tbody>\n",
              "</table>\n",
              "</div>"
            ],
            "text/plain": [
              "   Customer  Age  Gender  Own Home  Married  Close  Salary  Children  \\\n",
              "0         1   73       0         0        0      1   16400         1   \n",
              "1         2   22       0         1        1      0  108100         3   \n",
              "2         3   51       1         1        1      1   97300         1   \n",
              "3         4   48       1         1        1      1   26800         0   \n",
              "4         5   57       1         0        0      1   11200         0   \n",
              "\n",
              "   Previous Customer  Previous Spent  Catalogs  Amount Spent  \n",
              "0                  1           246.0        12       217.691  \n",
              "1                  1          1621.5        18      2632.462  \n",
              "2                  0             0.0        12      3047.563  \n",
              "3                  1           536.0        12       434.606  \n",
              "4                  0             0.0         6       105.624  "
            ]
          },
          "execution_count": 4,
          "metadata": {},
          "output_type": "execute_result"
        }
      ],
      "source": [
        "data = workbook['Data']\n",
        "data.head()"
      ]
    },
    {
      "cell_type": "code",
      "execution_count": null,
      "id": "226d7570",
      "metadata": {
        "id": "226d7570",
        "outputId": "dfcc9549-45f2-4378-ba16-55bd1531e8cf"
      },
      "outputs": [
        {
          "data": {
            "text/plain": [
              "Index(['Customer', 'Age', 'Gender', 'Own Home', 'Married', 'Close', 'Salary',\n",
              "       'Children', 'Previous Customer', 'Previous Spent', 'Catalogs',\n",
              "       'Amount Spent'],\n",
              "      dtype='object')"
            ]
          },
          "execution_count": 5,
          "metadata": {},
          "output_type": "execute_result"
        }
      ],
      "source": [
        "data.columns"
      ]
    },
    {
      "cell_type": "code",
      "execution_count": null,
      "id": "5d73e1de",
      "metadata": {
        "id": "5d73e1de",
        "outputId": "542a2971-e515-44a0-b530-719b882cb139"
      },
      "outputs": [
        {
          "data": {
            "text/html": [
              "<div>\n",
              "<style scoped>\n",
              "    .dataframe tbody tr th:only-of-type {\n",
              "        vertical-align: middle;\n",
              "    }\n",
              "\n",
              "    .dataframe tbody tr th {\n",
              "        vertical-align: top;\n",
              "    }\n",
              "\n",
              "    .dataframe thead th {\n",
              "        text-align: right;\n",
              "    }\n",
              "</style>\n",
              "<table border=\"1\" class=\"dataframe\">\n",
              "  <thead>\n",
              "    <tr style=\"text-align: right;\">\n",
              "      <th></th>\n",
              "      <th>Customer</th>\n",
              "      <th>Age</th>\n",
              "      <th>Gender</th>\n",
              "      <th>Own_Home</th>\n",
              "      <th>Married</th>\n",
              "      <th>Close</th>\n",
              "      <th>Salary</th>\n",
              "      <th>Children</th>\n",
              "      <th>Previous_Customer</th>\n",
              "      <th>Previous_Spent</th>\n",
              "      <th>Catalogs</th>\n",
              "      <th>Amount_Spent</th>\n",
              "    </tr>\n",
              "  </thead>\n",
              "  <tbody>\n",
              "    <tr>\n",
              "      <th>0</th>\n",
              "      <td>1</td>\n",
              "      <td>73</td>\n",
              "      <td>0</td>\n",
              "      <td>0</td>\n",
              "      <td>0</td>\n",
              "      <td>1</td>\n",
              "      <td>16400</td>\n",
              "      <td>1</td>\n",
              "      <td>1</td>\n",
              "      <td>246.0</td>\n",
              "      <td>12</td>\n",
              "      <td>217.691</td>\n",
              "    </tr>\n",
              "    <tr>\n",
              "      <th>1</th>\n",
              "      <td>2</td>\n",
              "      <td>22</td>\n",
              "      <td>0</td>\n",
              "      <td>1</td>\n",
              "      <td>1</td>\n",
              "      <td>0</td>\n",
              "      <td>108100</td>\n",
              "      <td>3</td>\n",
              "      <td>1</td>\n",
              "      <td>1621.5</td>\n",
              "      <td>18</td>\n",
              "      <td>2632.462</td>\n",
              "    </tr>\n",
              "    <tr>\n",
              "      <th>2</th>\n",
              "      <td>3</td>\n",
              "      <td>51</td>\n",
              "      <td>1</td>\n",
              "      <td>1</td>\n",
              "      <td>1</td>\n",
              "      <td>1</td>\n",
              "      <td>97300</td>\n",
              "      <td>1</td>\n",
              "      <td>0</td>\n",
              "      <td>0.0</td>\n",
              "      <td>12</td>\n",
              "      <td>3047.563</td>\n",
              "    </tr>\n",
              "    <tr>\n",
              "      <th>3</th>\n",
              "      <td>4</td>\n",
              "      <td>48</td>\n",
              "      <td>1</td>\n",
              "      <td>1</td>\n",
              "      <td>1</td>\n",
              "      <td>1</td>\n",
              "      <td>26800</td>\n",
              "      <td>0</td>\n",
              "      <td>1</td>\n",
              "      <td>536.0</td>\n",
              "      <td>12</td>\n",
              "      <td>434.606</td>\n",
              "    </tr>\n",
              "    <tr>\n",
              "      <th>4</th>\n",
              "      <td>5</td>\n",
              "      <td>57</td>\n",
              "      <td>1</td>\n",
              "      <td>0</td>\n",
              "      <td>0</td>\n",
              "      <td>1</td>\n",
              "      <td>11200</td>\n",
              "      <td>0</td>\n",
              "      <td>0</td>\n",
              "      <td>0.0</td>\n",
              "      <td>6</td>\n",
              "      <td>105.624</td>\n",
              "    </tr>\n",
              "  </tbody>\n",
              "</table>\n",
              "</div>"
            ],
            "text/plain": [
              "   Customer  Age  Gender  Own_Home  Married  Close  Salary  Children  \\\n",
              "0         1   73       0         0        0      1   16400         1   \n",
              "1         2   22       0         1        1      0  108100         3   \n",
              "2         3   51       1         1        1      1   97300         1   \n",
              "3         4   48       1         1        1      1   26800         0   \n",
              "4         5   57       1         0        0      1   11200         0   \n",
              "\n",
              "   Previous_Customer  Previous_Spent  Catalogs  Amount_Spent  \n",
              "0                  1           246.0        12       217.691  \n",
              "1                  1          1621.5        18      2632.462  \n",
              "2                  0             0.0        12      3047.563  \n",
              "3                  1           536.0        12       434.606  \n",
              "4                  0             0.0         6       105.624  "
            ]
          },
          "execution_count": 6,
          "metadata": {},
          "output_type": "execute_result"
        }
      ],
      "source": [
        "data.rename(columns = {'Own Home':'Own_Home','Previous Customer':'Previous_Customer','Previous Spent':'Previous_Spent','Amount Spent':'Amount_Spent'},inplace = True)\n",
        "data.head()"
      ]
    },
    {
      "cell_type": "code",
      "execution_count": null,
      "id": "2c03e4d6",
      "metadata": {
        "id": "2c03e4d6"
      },
      "outputs": [],
      "source": [
        "def reg(dp,idv, data):\n",
        "    fml = dp+ ' ~ ' + ' + '.join(idv)\n",
        "    model = smf.ols(formula = fml, data = data).fit()\n",
        "    print(model.summary())\n",
        "    X = data[idv]\n",
        "    X = sm.add_constant(X)\n",
        "    vif_data = pd.DataFrame()\n",
        "    vif_data[\"feature\"] = X.columns\n",
        "    vif_data[\"VIF\"] = [variance_inflation_factor(X.values, i) for i in range(X.shape[1])]\n",
        "    r_squared_values = {}\n",
        "    df = data[idv]\n",
        "    for column in df.columns:\n",
        "        ty = df[column]\n",
        "        tX = df.drop(columns=[column])\n",
        "        tX = sm.add_constant(tX)\n",
        "        tmodel = sm.OLS(ty, tX).fit()\n",
        "        r_squared_values[column] = tmodel.rsquared\n",
        "    vif_data = vif_data.drop(vif_data.index[0])\n",
        "    vif_data['r2'] = np.array(list(r_squared_values.values()))\n",
        "    print(vif_data)"
      ]
    },
    {
      "cell_type": "code",
      "execution_count": null,
      "id": "56d60e8a",
      "metadata": {
        "id": "56d60e8a",
        "outputId": "16532605-79de-419d-dbed-ae68f616ad1b"
      },
      "outputs": [
        {
          "name": "stdout",
          "output_type": "stream",
          "text": [
            "                            OLS Regression Results                            \n",
            "==============================================================================\n",
            "Dep. Variable:           Amount_Spent   R-squared:                       0.743\n",
            "Model:                            OLS   Adj. R-squared:                  0.740\n",
            "Method:                 Least Squares   F-statistic:                     285.6\n",
            "Date:                Mon, 23 Sep 2024   Prob (F-statistic):          1.93e-283\n",
            "Time:                        08:22:57   Log-Likelihood:                -7607.6\n",
            "No. Observations:                1000   AIC:                         1.524e+04\n",
            "Df Residuals:                     989   BIC:                         1.529e+04\n",
            "Df Model:                          10                                         \n",
            "Covariance Type:            nonrobust                                         \n",
            "=====================================================================================\n",
            "                        coef    std err          t      P>|t|      [0.025      0.975]\n",
            "-------------------------------------------------------------------------------------\n",
            "Intercept           177.9937     72.232      2.464      0.014      36.248     319.739\n",
            "Age                   0.6462      1.107      0.584      0.559      -1.526       2.818\n",
            "Gender              -39.7921     32.854     -1.211      0.226    -104.264      24.680\n",
            "Own_Home             33.9384     35.438      0.958      0.338     -35.603     103.480\n",
            "Married             -15.6708     42.461     -0.369      0.712     -98.994      67.653\n",
            "Close              -404.0738     38.379    -10.529      0.000    -479.387    -328.760\n",
            "Salary                0.0176      0.001     17.801      0.000       0.016       0.020\n",
            "Children           -151.6319     17.800     -8.518      0.000    -186.563    -116.701\n",
            "Previous_Customer  -541.2758     54.239     -9.979      0.000    -647.713    -434.838\n",
            "Previous_Spent        0.2904      0.045      6.500      0.000       0.203       0.378\n",
            "Catalogs             42.3859      2.448     17.315      0.000      37.582      47.190\n",
            "==============================================================================\n",
            "Omnibus:                      259.884   Durbin-Watson:                   1.991\n",
            "Prob(Omnibus):                  0.000   Jarque-Bera (JB):             1106.715\n",
            "Skew:                           1.159   Prob(JB):                    4.78e-241\n",
            "Kurtosis:                       7.603   Cond. No.                     3.12e+05\n",
            "==============================================================================\n",
            "\n",
            "Notes:\n",
            "[1] Standard Errors assume that the covariance matrix of the errors is correctly specified.\n",
            "[2] The condition number is large, 3.12e+05. This might indicate that there are\n",
            "strong multicollinearity or other numerical problems.\n",
            "              feature       VIF        r2\n",
            "1                 Age  1.148001  0.128921\n",
            "2              Gender  1.124279  0.110541\n",
            "3            Own_Home  1.306890  0.234824\n",
            "4             Married  1.878116  0.467552\n",
            "5               Close  1.263740  0.208698\n",
            "6              Salary  3.834607  0.739217\n",
            "7            Children  1.457128  0.313719\n",
            "8   Previous_Customer  2.588915  0.613738\n",
            "9      Previous_Spent  4.729385  0.788556\n",
            "10           Catalogs  1.094148  0.086047\n"
          ]
        }
      ],
      "source": [
        "reg('Amount_Spent',['Age',\n",
        " 'Gender',\n",
        " 'Own_Home',\n",
        " 'Married',\n",
        " 'Close',\n",
        " 'Salary',\n",
        " 'Children',\n",
        " 'Previous_Customer',\n",
        " 'Previous_Spent',\n",
        " 'Catalogs'],data)"
      ]
    },
    {
      "cell_type": "code",
      "execution_count": null,
      "id": "11b8ed62",
      "metadata": {
        "id": "11b8ed62",
        "outputId": "6b74e5ed-1070-40f7-977e-c1e01c59c24f"
      },
      "outputs": [
        {
          "name": "stdout",
          "output_type": "stream",
          "text": [
            "                            OLS Regression Results                            \n",
            "==============================================================================\n",
            "Dep. Variable:           Amount_Spent   R-squared:                       0.743\n",
            "Model:                            OLS   Adj. R-squared:                  0.740\n",
            "Method:                 Least Squares   F-statistic:                     317.6\n",
            "Date:                Mon, 23 Sep 2024   Prob (F-statistic):          1.12e-284\n",
            "Time:                        08:22:57   Log-Likelihood:                -7607.6\n",
            "No. Observations:                1000   AIC:                         1.524e+04\n",
            "Df Residuals:                     990   BIC:                         1.528e+04\n",
            "Df Model:                           9                                         \n",
            "Covariance Type:            nonrobust                                         \n",
            "=====================================================================================\n",
            "                        coef    std err          t      P>|t|      [0.025      0.975]\n",
            "-------------------------------------------------------------------------------------\n",
            "Intercept           179.2326     72.122      2.485      0.013      37.702     320.763\n",
            "Age                   0.6549      1.106      0.592      0.554      -1.515       2.825\n",
            "Gender              -38.5916     32.679     -1.181      0.238    -102.719      25.536\n",
            "Own_Home             34.9264     35.321      0.989      0.323     -34.386     104.239\n",
            "Close              -403.4286     38.322    -10.527      0.000    -478.631    -328.226\n",
            "Salary                0.0174      0.001     20.975      0.000       0.016       0.019\n",
            "Children           -151.1532     17.745     -8.518      0.000    -185.976    -116.331\n",
            "Previous_Customer  -542.4349     54.125    -10.022      0.000    -648.647    -436.223\n",
            "Previous_Spent        0.2914      0.045      6.537      0.000       0.204       0.379\n",
            "Catalogs             42.3680      2.446     17.319      0.000      37.567      47.169\n",
            "==============================================================================\n",
            "Omnibus:                      260.880   Durbin-Watson:                   1.993\n",
            "Prob(Omnibus):                  0.000   Jarque-Bera (JB):             1113.255\n",
            "Skew:                           1.163   Prob(JB):                    1.82e-242\n",
            "Kurtosis:                       7.616   Cond. No.                     3.11e+05\n",
            "==============================================================================\n",
            "\n",
            "Notes:\n",
            "[1] Standard Errors assume that the covariance matrix of the errors is correctly specified.\n",
            "[2] The condition number is large, 3.11e+05. This might indicate that there are\n",
            "strong multicollinearity or other numerical problems.\n",
            "             feature       VIF        r2\n",
            "1                Age  1.147479  0.128525\n",
            "2             Gender  1.113259  0.101736\n",
            "3           Own_Home  1.299432  0.230433\n",
            "4              Close  1.261117  0.207052\n",
            "5             Salary  2.702141  0.629923\n",
            "6           Children  1.449394  0.310056\n",
            "7  Previous_Customer  2.580236  0.612439\n",
            "8     Previous_Spent  4.711941  0.787773\n",
            "9           Catalogs  1.093718  0.085687\n"
          ]
        }
      ],
      "source": [
        "reg('Amount_Spent',['Age',\n",
        " 'Gender',\n",
        " 'Own_Home',\n",
        " 'Close',\n",
        " 'Salary',\n",
        " 'Children',\n",
        " 'Previous_Customer',\n",
        " 'Previous_Spent',\n",
        " 'Catalogs'],data)"
      ]
    },
    {
      "cell_type": "code",
      "execution_count": null,
      "id": "c7139f5c",
      "metadata": {
        "id": "c7139f5c",
        "outputId": "d7b9456b-1591-474e-b679-79fb1e505fea"
      },
      "outputs": [
        {
          "name": "stdout",
          "output_type": "stream",
          "text": [
            "                            OLS Regression Results                            \n",
            "==============================================================================\n",
            "Dep. Variable:           Amount_Spent   R-squared:                       0.743\n",
            "Model:                            OLS   Adj. R-squared:                  0.741\n",
            "Method:                 Least Squares   F-statistic:                     357.5\n",
            "Date:                Mon, 23 Sep 2024   Prob (F-statistic):          6.86e-286\n",
            "Time:                        08:22:57   Log-Likelihood:                -7607.8\n",
            "No. Observations:                1000   AIC:                         1.523e+04\n",
            "Df Residuals:                     991   BIC:                         1.528e+04\n",
            "Df Model:                           8                                         \n",
            "Covariance Type:            nonrobust                                         \n",
            "=====================================================================================\n",
            "                        coef    std err          t      P>|t|      [0.025      0.975]\n",
            "-------------------------------------------------------------------------------------\n",
            "Intercept           203.0758     59.816      3.395      0.001      85.696     320.456\n",
            "Gender              -40.5797     32.495     -1.249      0.212    -104.347      23.187\n",
            "Own_Home             37.5962     35.021      1.074      0.283     -31.127     106.319\n",
            "Close              -403.2175     38.308    -10.526      0.000    -478.392    -328.043\n",
            "Salary                0.0175      0.001     21.280      0.000       0.016       0.019\n",
            "Children           -153.1645     17.411     -8.797      0.000    -187.332    -118.997\n",
            "Previous_Customer  -540.5405     54.012    -10.008      0.000    -646.532    -434.549\n",
            "Previous_Spent        0.2909      0.045      6.529      0.000       0.203       0.378\n",
            "Catalogs             42.4108      2.445     17.349      0.000      37.614      47.208\n",
            "==============================================================================\n",
            "Omnibus:                      259.873   Durbin-Watson:                   1.992\n",
            "Prob(Omnibus):                  0.000   Jarque-Bera (JB):             1107.769\n",
            "Skew:                           1.158   Prob(JB):                    2.83e-241\n",
            "Kurtosis:                       7.606   Cond. No.                     2.76e+05\n",
            "==============================================================================\n",
            "\n",
            "Notes:\n",
            "[1] Standard Errors assume that the covariance matrix of the errors is correctly specified.\n",
            "[2] The condition number is large, 2.76e+05. This might indicate that there are\n",
            "strong multicollinearity or other numerical problems.\n",
            "             feature       VIF        r2\n",
            "1             Gender  1.101508  0.092153\n",
            "2           Own_Home  1.278257  0.217685\n",
            "3              Close  1.261008  0.206984\n",
            "4             Salary  2.648013  0.622358\n",
            "5           Children  1.396289  0.283816\n",
            "6  Previous_Customer  2.571221  0.611080\n",
            "7     Previous_Spent  4.710050  0.787688\n",
            "8           Catalogs  1.092764  0.084889\n"
          ]
        }
      ],
      "source": [
        "reg('Amount_Spent',[\n",
        " 'Gender',\n",
        " 'Own_Home',\n",
        " 'Close',\n",
        " 'Salary',\n",
        " 'Children',\n",
        " 'Previous_Customer',\n",
        " 'Previous_Spent',\n",
        " 'Catalogs'],data)"
      ]
    },
    {
      "cell_type": "code",
      "execution_count": null,
      "id": "6fb74ef5",
      "metadata": {
        "id": "6fb74ef5",
        "outputId": "a7e19461-d6d1-4542-8deb-bda766ce1d9a"
      },
      "outputs": [
        {
          "name": "stdout",
          "output_type": "stream",
          "text": [
            "                            OLS Regression Results                            \n",
            "==============================================================================\n",
            "Dep. Variable:           Amount_Spent   R-squared:                       0.742\n",
            "Model:                            OLS   Adj. R-squared:                  0.741\n",
            "Method:                 Least Squares   F-statistic:                     408.3\n",
            "Date:                Mon, 23 Sep 2024   Prob (F-statistic):          5.82e-287\n",
            "Time:                        08:22:57   Log-Likelihood:                -7608.4\n",
            "No. Observations:                1000   AIC:                         1.523e+04\n",
            "Df Residuals:                     992   BIC:                         1.527e+04\n",
            "Df Model:                           7                                         \n",
            "Covariance Type:            nonrobust                                         \n",
            "=====================================================================================\n",
            "                        coef    std err          t      P>|t|      [0.025      0.975]\n",
            "-------------------------------------------------------------------------------------\n",
            "Intercept           207.5359     59.676      3.478      0.001      90.431     324.641\n",
            "Gender              -42.3400     32.456     -1.305      0.192    -106.030      21.350\n",
            "Close              -402.4716     38.305    -10.507      0.000    -477.639    -327.304\n",
            "Salary                0.0178      0.001     22.899      0.000       0.016       0.019\n",
            "Children           -154.2204     17.385     -8.871      0.000    -188.336    -120.105\n",
            "Previous_Customer  -541.0479     54.014    -10.017      0.000    -647.044    -435.052\n",
            "Previous_Spent        0.2910      0.045      6.532      0.000       0.204       0.378\n",
            "Catalogs             42.4276      2.445     17.355      0.000      37.630      47.225\n",
            "==============================================================================\n",
            "Omnibus:                      258.735   Durbin-Watson:                   1.990\n",
            "Prob(Omnibus):                  0.000   Jarque-Bera (JB):             1101.827\n",
            "Skew:                           1.153   Prob(JB):                    5.51e-240\n",
            "Kurtosis:                       7.596   Cond. No.                     2.76e+05\n",
            "==============================================================================\n",
            "\n",
            "Notes:\n",
            "[1] Standard Errors assume that the covariance matrix of the errors is correctly specified.\n",
            "[2] The condition number is large, 2.76e+05. This might indicate that there are\n",
            "strong multicollinearity or other numerical problems.\n",
            "             feature       VIF        r2\n",
            "1             Gender  1.098703  0.089836\n",
            "2              Close  1.260593  0.206723\n",
            "3             Salary  2.362759  0.576766\n",
            "4           Children  1.391834  0.281523\n",
            "5  Previous_Customer  2.571024  0.611050\n",
            "6     Previous_Spent  4.710012  0.787686\n",
            "7           Catalogs  1.092719  0.084851\n"
          ]
        }
      ],
      "source": [
        "reg('Amount_Spent',[\n",
        " 'Gender',\n",
        " 'Close',\n",
        " 'Salary',\n",
        " 'Children',\n",
        " 'Previous_Customer',\n",
        " 'Previous_Spent',\n",
        " 'Catalogs'],data)"
      ]
    },
    {
      "cell_type": "code",
      "execution_count": null,
      "id": "cdba23d0",
      "metadata": {
        "id": "cdba23d0",
        "outputId": "150ec4fd-7fac-46bf-d664-7e5721c64705"
      },
      "outputs": [
        {
          "name": "stdout",
          "output_type": "stream",
          "text": [
            "                            OLS Regression Results                            \n",
            "==============================================================================\n",
            "Dep. Variable:           Amount_Spent   R-squared:                       0.742\n",
            "Model:                            OLS   Adj. R-squared:                  0.740\n",
            "Method:                 Least Squares   F-statistic:                     475.8\n",
            "Date:                Mon, 23 Sep 2024   Prob (F-statistic):          5.97e-288\n",
            "Time:                        08:22:57   Log-Likelihood:                -7609.3\n",
            "No. Observations:                1000   AIC:                         1.523e+04\n",
            "Df Residuals:                     993   BIC:                         1.527e+04\n",
            "Df Model:                           6                                         \n",
            "Covariance Type:            nonrobust                                         \n",
            "=====================================================================================\n",
            "                        coef    std err          t      P>|t|      [0.025      0.975]\n",
            "-------------------------------------------------------------------------------------\n",
            "Intercept           195.3843     58.965      3.314      0.001      79.674     311.095\n",
            "Close              -400.9550     38.301    -10.469      0.000    -476.115    -325.795\n",
            "Salary                0.0176      0.001     23.209      0.000       0.016       0.019\n",
            "Children           -151.1001     17.226     -8.772      0.000    -184.903    -117.297\n",
            "Previous_Customer  -542.2123     54.026    -10.036      0.000    -648.231    -436.194\n",
            "Previous_Spent        0.2948      0.044      6.630      0.000       0.208       0.382\n",
            "Catalogs             42.3087      2.444     17.313      0.000      37.513      47.104\n",
            "==============================================================================\n",
            "Omnibus:                      258.400   Durbin-Watson:                   1.988\n",
            "Prob(Omnibus):                  0.000   Jarque-Bera (JB):             1097.852\n",
            "Skew:                           1.152   Prob(JB):                    4.02e-239\n",
            "Kurtosis:                       7.587   Cond. No.                     2.73e+05\n",
            "==============================================================================\n",
            "\n",
            "Notes:\n",
            "[1] Standard Errors assume that the covariance matrix of the errors is correctly specified.\n",
            "[2] The condition number is large, 2.73e+05. This might indicate that there are\n",
            "strong multicollinearity or other numerical problems.\n",
            "             feature       VIF        r2\n",
            "1              Close  1.259432  0.205991\n",
            "2             Salary  2.238959  0.553364\n",
            "3           Children  1.365488  0.267661\n",
            "4  Previous_Customer  2.570322  0.610944\n",
            "5     Previous_Spent  4.689578  0.786761\n",
            "6           Catalogs  1.091200  0.083577\n"
          ]
        }
      ],
      "source": [
        "reg('Amount_Spent',[\n",
        " 'Close',\n",
        " 'Salary',\n",
        " 'Children',\n",
        " 'Previous_Customer',\n",
        " 'Previous_Spent',\n",
        " 'Catalogs'],data)"
      ]
    },
    {
      "cell_type": "code",
      "execution_count": null,
      "id": "06461f1d",
      "metadata": {
        "id": "06461f1d",
        "outputId": "be35616d-e471-440c-9082-da275c76199a"
      },
      "outputs": [
        {
          "name": "stdout",
          "output_type": "stream",
          "text": [
            "                            OLS Regression Results                            \n",
            "==============================================================================\n",
            "Dep. Variable:           Amount_Spent   R-squared:                       0.730\n",
            "Model:                            OLS   Adj. R-squared:                  0.729\n",
            "Method:                 Least Squares   F-statistic:                     538.8\n",
            "Date:                Mon, 23 Sep 2024   Prob (F-statistic):          5.18e-280\n",
            "Time:                        08:22:57   Log-Likelihood:                -7630.9\n",
            "No. Observations:                1000   AIC:                         1.527e+04\n",
            "Df Residuals:                     994   BIC:                         1.530e+04\n",
            "Df Model:                           5                                         \n",
            "Covariance Type:            nonrobust                                         \n",
            "=====================================================================================\n",
            "                        coef    std err          t      P>|t|      [0.025      0.975]\n",
            "-------------------------------------------------------------------------------------\n",
            "Intercept           119.9155     59.093      2.029      0.043       3.955     235.876\n",
            "Close              -511.3415     35.229    -14.515      0.000    -580.474    -442.209\n",
            "Salary                0.0212      0.001     40.046      0.000       0.020       0.022\n",
            "Children           -208.4811     15.212    -13.705      0.000    -238.332    -178.630\n",
            "Previous_Customer  -263.8851     34.731     -7.598      0.000    -332.040    -195.730\n",
            "Catalogs             44.0987      2.481     17.776      0.000      39.231      48.967\n",
            "==============================================================================\n",
            "Omnibus:                      263.111   Durbin-Watson:                   1.961\n",
            "Prob(Omnibus):                  0.000   Jarque-Bera (JB):             1090.997\n",
            "Skew:                           1.183   Prob(JB):                    1.24e-237\n",
            "Kurtosis:                       7.537   Cond. No.                     2.57e+05\n",
            "==============================================================================\n",
            "\n",
            "Notes:\n",
            "[1] Standard Errors assume that the covariance matrix of the errors is correctly specified.\n",
            "[2] The condition number is large, 2.57e+05. This might indicate that there are\n",
            "strong multicollinearity or other numerical problems.\n",
            "             feature       VIF        r2\n",
            "1              Close  1.021409  0.020960\n",
            "2             Salary  1.051961  0.049395\n",
            "3           Children  1.020744  0.020323\n",
            "4  Previous_Customer  1.018228  0.017901\n",
            "5           Catalogs  1.077880  0.072253\n"
          ]
        }
      ],
      "source": [
        "reg('Amount_Spent',[\n",
        " 'Close',\n",
        " 'Salary',\n",
        " 'Children',\n",
        " 'Previous_Customer',\n",
        " 'Catalogs'],data)"
      ]
    }
  ],
  "metadata": {
    "kernelspec": {
      "display_name": "Python 3 (ipykernel)",
      "language": "python",
      "name": "python3"
    },
    "language_info": {
      "codemirror_mode": {
        "name": "ipython",
        "version": 3
      },
      "file_extension": ".py",
      "mimetype": "text/x-python",
      "name": "python",
      "nbconvert_exporter": "python",
      "pygments_lexer": "ipython3",
      "version": "3.10.9"
    },
    "colab": {
      "provenance": [],
      "include_colab_link": true
    }
  },
  "nbformat": 4,
  "nbformat_minor": 5
}