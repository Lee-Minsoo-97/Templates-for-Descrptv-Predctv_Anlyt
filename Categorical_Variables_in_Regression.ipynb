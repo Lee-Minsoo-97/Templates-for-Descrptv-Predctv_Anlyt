{
  "cells": [
    {
      "cell_type": "markdown",
      "metadata": {
        "id": "view-in-github",
        "colab_type": "text"
      },
      "source": [
        "<a href=\"https://colab.research.google.com/github/Lee-Minsoo-97/Templates-for-Descrptv-Predctv_Anlyt/blob/main/Categorical_Variables_in_Regression.ipynb\" target=\"_parent\"><img src=\"https://colab.research.google.com/assets/colab-badge.svg\" alt=\"Open In Colab\"/></a>"
      ]
    },
    {
      "cell_type": "code",
      "execution_count": null,
      "id": "2f104e4c",
      "metadata": {
        "id": "2f104e4c"
      },
      "outputs": [],
      "source": [
        "import pandas as pd\n",
        "import numpy as np\n",
        "import statsmodels.formula.api as smf\n",
        "from statsmodels.stats.anova import anova_lm\n",
        "import matplotlib.pyplot as plt"
      ]
    },
    {
      "cell_type": "code",
      "execution_count": null,
      "id": "2b2e4277",
      "metadata": {
        "id": "2b2e4277"
      },
      "outputs": [],
      "source": [
        "data = pd.read_excel('Bank Salaries.xlsx')"
      ]
    },
    {
      "cell_type": "code",
      "execution_count": null,
      "id": "186bf256",
      "metadata": {
        "id": "186bf256",
        "outputId": "fddde69f-6fdd-490e-e283-245f8c18456b"
      },
      "outputs": [
        {
          "data": {
            "text/html": [
              "<div>\n",
              "<style scoped>\n",
              "    .dataframe tbody tr th:only-of-type {\n",
              "        vertical-align: middle;\n",
              "    }\n",
              "\n",
              "    .dataframe tbody tr th {\n",
              "        vertical-align: top;\n",
              "    }\n",
              "\n",
              "    .dataframe thead th {\n",
              "        text-align: right;\n",
              "    }\n",
              "</style>\n",
              "<table border=\"1\" class=\"dataframe\">\n",
              "  <thead>\n",
              "    <tr style=\"text-align: right;\">\n",
              "      <th></th>\n",
              "      <th>Employee</th>\n",
              "      <th>Education</th>\n",
              "      <th>Grade</th>\n",
              "      <th>Years1</th>\n",
              "      <th>Years2</th>\n",
              "      <th>Age</th>\n",
              "      <th>Gender</th>\n",
              "      <th>PC Job</th>\n",
              "      <th>Salary</th>\n",
              "    </tr>\n",
              "  </thead>\n",
              "  <tbody>\n",
              "    <tr>\n",
              "      <th>0</th>\n",
              "      <td>1</td>\n",
              "      <td>3</td>\n",
              "      <td>1</td>\n",
              "      <td>3</td>\n",
              "      <td>1</td>\n",
              "      <td>26</td>\n",
              "      <td>Male</td>\n",
              "      <td>No</td>\n",
              "      <td>32000.0</td>\n",
              "    </tr>\n",
              "    <tr>\n",
              "      <th>1</th>\n",
              "      <td>2</td>\n",
              "      <td>1</td>\n",
              "      <td>1</td>\n",
              "      <td>14</td>\n",
              "      <td>1</td>\n",
              "      <td>38</td>\n",
              "      <td>Female</td>\n",
              "      <td>No</td>\n",
              "      <td>39100.0</td>\n",
              "    </tr>\n",
              "    <tr>\n",
              "      <th>2</th>\n",
              "      <td>3</td>\n",
              "      <td>1</td>\n",
              "      <td>1</td>\n",
              "      <td>12</td>\n",
              "      <td>0</td>\n",
              "      <td>35</td>\n",
              "      <td>Female</td>\n",
              "      <td>No</td>\n",
              "      <td>33200.0</td>\n",
              "    </tr>\n",
              "    <tr>\n",
              "      <th>3</th>\n",
              "      <td>4</td>\n",
              "      <td>2</td>\n",
              "      <td>1</td>\n",
              "      <td>8</td>\n",
              "      <td>7</td>\n",
              "      <td>40</td>\n",
              "      <td>Female</td>\n",
              "      <td>No</td>\n",
              "      <td>30600.0</td>\n",
              "    </tr>\n",
              "    <tr>\n",
              "      <th>4</th>\n",
              "      <td>5</td>\n",
              "      <td>3</td>\n",
              "      <td>1</td>\n",
              "      <td>3</td>\n",
              "      <td>0</td>\n",
              "      <td>28</td>\n",
              "      <td>Male</td>\n",
              "      <td>No</td>\n",
              "      <td>29000.0</td>\n",
              "    </tr>\n",
              "  </tbody>\n",
              "</table>\n",
              "</div>"
            ],
            "text/plain": [
              "   Employee  Education  Grade  Years1  Years2  Age  Gender PC Job   Salary\n",
              "0         1          3      1       3       1   26    Male     No  32000.0\n",
              "1         2          1      1      14       1   38  Female     No  39100.0\n",
              "2         3          1      1      12       0   35  Female     No  33200.0\n",
              "3         4          2      1       8       7   40  Female     No  30600.0\n",
              "4         5          3      1       3       0   28    Male     No  29000.0"
            ]
          },
          "execution_count": 3,
          "metadata": {},
          "output_type": "execute_result"
        }
      ],
      "source": [
        "data.head()"
      ]
    },
    {
      "cell_type": "code",
      "execution_count": null,
      "id": "805abf84",
      "metadata": {
        "id": "805abf84",
        "outputId": "bdc51e56-4a75-48d9-d7fd-d0a56efdf5ab"
      },
      "outputs": [
        {
          "name": "stdout",
          "output_type": "stream",
          "text": [
            "                            OLS Regression Results                            \n",
            "==============================================================================\n",
            "Dep. Variable:                 Salary   R-squared:                       0.492\n",
            "Model:                            OLS   Adj. R-squared:                  0.485\n",
            "Method:                 Least Squares   F-statistic:                     65.93\n",
            "Date:                Tue, 10 Sep 2024   Prob (F-statistic):           7.61e-30\n",
            "Time:                        17:21:18   Log-Likelihood:                -2164.5\n",
            "No. Observations:                 208   AIC:                             4337.\n",
            "Df Residuals:                     204   BIC:                             4350.\n",
            "Df Model:                           3                                         \n",
            "Covariance Type:            nonrobust                                         \n",
            "====================================================================================================================\n",
            "                                                       coef    std err          t      P>|t|      [0.025      0.975]\n",
            "--------------------------------------------------------------------------------------------------------------------\n",
            "Intercept                                         3.549e+04   1341.022     26.466      0.000    3.28e+04    3.81e+04\n",
            "C(Gender, Treatment(reference=\"Male\"))[T.Female] -8080.2121   1198.170     -6.744      0.000   -1.04e+04   -5717.827\n",
            "Years1                                             987.9937     80.928     12.208      0.000     828.431    1147.557\n",
            "Years2                                             131.3379    180.923      0.726      0.469    -225.381     488.057\n",
            "==============================================================================\n",
            "Omnibus:                       15.654   Durbin-Watson:                   1.286\n",
            "Prob(Omnibus):                  0.000   Jarque-Bera (JB):               25.154\n",
            "Skew:                           0.434   Prob(JB):                     3.45e-06\n",
            "Kurtosis:                       4.465   Cond. No.                         34.6\n",
            "==============================================================================\n",
            "\n",
            "Notes:\n",
            "[1] Standard Errors assume that the covariance matrix of the errors is correctly specified.\n"
          ]
        }
      ],
      "source": [
        "model_Y12_G = smf.ols(formula='Salary ~ Years1 + Years2 + C(Gender,Treatment(reference=\"Male\"))', data=data).fit()\n",
        "print(model_Y12_G.summary())"
      ]
    },
    {
      "cell_type": "code",
      "execution_count": null,
      "id": "88d957fb",
      "metadata": {
        "id": "88d957fb"
      },
      "outputs": [],
      "source": []
    },
    {
      "cell_type": "code",
      "execution_count": null,
      "id": "f0698cb0",
      "metadata": {
        "id": "f0698cb0",
        "outputId": "50f1c38b-f25d-4735-8637-9cd8a9f3e8ca"
      },
      "outputs": [
        {
          "name": "stdout",
          "output_type": "stream",
          "text": [
            "                            OLS Regression Results                            \n",
            "==============================================================================\n",
            "Dep. Variable:                 Salary   R-squared:                       0.645\n",
            "Model:                            OLS   Adj. R-squared:                  0.632\n",
            "Method:                 Least Squares   F-statistic:                     51.88\n",
            "Date:                Tue, 10 Sep 2024   Prob (F-statistic):           1.17e-41\n",
            "Time:                        17:21:35   Log-Likelihood:                -2127.3\n",
            "No. Observations:                 208   AIC:                             4271.\n",
            "Df Residuals:                     200   BIC:                             4297.\n",
            "Df Model:                           7                                         \n",
            "Covariance Type:            nonrobust                                         \n",
            "====================================================================================================================\n",
            "                                                       coef    std err          t      P>|t|      [0.025      0.975]\n",
            "--------------------------------------------------------------------------------------------------------------------\n",
            "Intercept                                         3.838e+04   1256.727     30.542      0.000    3.59e+04    4.09e+04\n",
            "C(Gender, Treatment(reference=\"Male\"))[T.Female] -4501.3221   1085.767     -4.146      0.000   -6642.343   -2360.301\n",
            "C(Education, Treatment(reference=5))[T.1]        -1.177e+04   1510.214     -7.794      0.000   -1.47e+04   -8792.224\n",
            "C(Education, Treatment(reference=5))[T.2]        -1.161e+04   1526.772     -7.604      0.000   -1.46e+04   -8599.332\n",
            "C(Education, Treatment(reference=5))[T.3]        -7005.6525   1232.284     -5.685      0.000   -9435.589   -4575.716\n",
            "C(Education, Treatment(reference=5))[T.4]        -4450.3680   2561.738     -1.737      0.084   -9501.849     601.113\n",
            "Years1                                            1032.9301     69.603     14.840      0.000     895.681    1170.179\n",
            "Years2                                             362.2342    158.123      2.291      0.023      50.431     674.037\n",
            "==============================================================================\n",
            "Omnibus:                       35.018   Durbin-Watson:                   1.749\n",
            "Prob(Omnibus):                  0.000   Jarque-Bera (JB):              307.003\n",
            "Skew:                          -0.046   Prob(JB):                     2.16e-67\n",
            "Kurtosis:                       8.951   Cond. No.                         68.9\n",
            "==============================================================================\n",
            "\n",
            "Notes:\n",
            "[1] Standard Errors assume that the covariance matrix of the errors is correctly specified.\n"
          ]
        }
      ],
      "source": [
        "model_Y12_GE = smf.ols(formula='Salary ~ Years1 + Years2 + C(Gender,Treatment(reference=\"Male\"))+C(Education, Treatment(reference = 5))', data=data).fit()\n",
        "print(model_Y12_GE.summary())"
      ]
    },
    {
      "cell_type": "code",
      "execution_count": null,
      "id": "3f311b8a",
      "metadata": {
        "id": "3f311b8a",
        "outputId": "9e09345d-6695-4069-f224-0b01a526451c"
      },
      "outputs": [
        {
          "name": "stdout",
          "output_type": "stream",
          "text": [
            "                            OLS Regression Results                            \n",
            "==============================================================================\n",
            "Dep. Variable:                 Salary   R-squared:                       0.491\n",
            "Model:                            OLS   Adj. R-squared:                  0.486\n",
            "Method:                 Least Squares   F-statistic:                     98.86\n",
            "Date:                Tue, 10 Sep 2024   Prob (F-statistic):           8.76e-31\n",
            "Time:                        17:22:03   Log-Likelihood:                -2164.8\n",
            "No. Observations:                 208   AIC:                             4336.\n",
            "Df Residuals:                     205   BIC:                             4346.\n",
            "Df Model:                           2                                         \n",
            "Covariance Type:            nonrobust                                         \n",
            "====================================================================================================================\n",
            "                                                       coef    std err          t      P>|t|      [0.025      0.975]\n",
            "--------------------------------------------------------------------------------------------------------------------\n",
            "Intercept                                         3.582e+04   1259.106     28.452      0.000    3.33e+04    3.83e+04\n",
            "C(Gender, Treatment(reference=\"Male\"))[T.Female] -8011.8858   1193.089     -6.715      0.000   -1.04e+04   -5659.588\n",
            "Years1                                             981.1509     80.285     12.221      0.000     822.862    1139.440\n",
            "==============================================================================\n",
            "Omnibus:                       15.978   Durbin-Watson:                   1.288\n",
            "Prob(Omnibus):                  0.000   Jarque-Bera (JB):               25.267\n",
            "Skew:                           0.450   Prob(JB):                     3.26e-06\n",
            "Kurtosis:                       4.451   Cond. No.                         33.7\n",
            "==============================================================================\n",
            "\n",
            "Notes:\n",
            "[1] Standard Errors assume that the covariance matrix of the errors is correctly specified.\n"
          ]
        }
      ],
      "source": [
        "model_Y1_G = smf.ols(formula='Salary ~ Years1 + C(Gender,Treatment(reference=\"Male\"))', data=data).fit()\n",
        "print(model_Y1_G.summary())"
      ]
    },
    {
      "cell_type": "code",
      "execution_count": null,
      "id": "e2f81e8d",
      "metadata": {
        "id": "e2f81e8d",
        "outputId": "c2cc52ae-5c98-4a9a-f057-832ae7e7157c"
      },
      "outputs": [
        {
          "data": {
            "image/png": "[encoded data removed]",
            "text/plain": [
              "<Figure size 640x480 with 1 Axes>"
            ]
          },
          "metadata": {},
          "output_type": "display_data"
        }
      ],
      "source": [
        "fitted_values = model_Y1_G.fittedvalues\n",
        "X = data.Years1\n",
        "plt.scatter(X,fitted_values)\n",
        "plt.xlabel('X')\n",
        "plt.ylabel('Fitted Values')\n",
        "plt.title('Fitted v.s X')\n",
        "plt.show()"
      ]
    },
    {
      "cell_type": "code",
      "execution_count": null,
      "id": "c546ed84",
      "metadata": {
        "id": "c546ed84",
        "outputId": "4c23c959-aff7-46d6-c481-6d3fa94d4dbc"
      },
      "outputs": [
        {
          "name": "stdout",
          "output_type": "stream",
          "text": [
            "                            OLS Regression Results                            \n",
            "==============================================================================\n",
            "Dep. Variable:                 Salary   R-squared:                       0.639\n",
            "Model:                            OLS   Adj. R-squared:                  0.633\n",
            "Method:                 Least Squares   F-statistic:                     120.2\n",
            "Date:                Tue, 10 Sep 2024   Prob (F-statistic):           7.51e-45\n",
            "Time:                        17:27:27   Log-Likelihood:                -2129.2\n",
            "No. Observations:                 208   AIC:                             4266.\n",
            "Df Residuals:                     204   BIC:                             4280.\n",
            "Df Model:                           3                                         \n",
            "Covariance Type:            nonrobust                                         \n",
            "===========================================================================================================================\n",
            "                                                              coef    std err          t      P>|t|      [0.025      0.975]\n",
            "---------------------------------------------------------------------------------------------------------------------------\n",
            "Intercept                                                3.043e+04   1216.574     25.013      0.000     2.8e+04    3.28e+04\n",
            "C(Gender, Treatment(reference=\"Male\"))[T.Female]         4098.2519   1665.842      2.460      0.015     813.776    7382.727\n",
            "Years1                                                   1527.7617     90.460     16.889      0.000    1349.405    1706.119\n",
            "C(Gender, Treatment(reference=\"Male\"))[T.Female]:Years1 -1247.7984    136.676     -9.130      0.000   -1517.277    -978.320\n",
            "==============================================================================\n",
            "Omnibus:                       11.523   Durbin-Watson:                   1.188\n",
            "Prob(Omnibus):                  0.003   Jarque-Bera (JB):               15.614\n",
            "Skew:                           0.379   Prob(JB):                     0.000407\n",
            "Kurtosis:                       4.108   Cond. No.                         58.3\n",
            "==============================================================================\n",
            "\n",
            "Notes:\n",
            "[1] Standard Errors assume that the covariance matrix of the errors is correctly specified.\n"
          ]
        }
      ],
      "source": [
        "model_Y1_G_GY1 = smf.ols(formula='Salary ~ Years1 + C(Gender,Treatment(reference=\"Male\")) + C(Gender,Treatment(reference=\"Male\"))*Years1', data=data).fit()\n",
        "print(model_Y1_G_GY1.summary())"
      ]
    },
    {
      "cell_type": "code",
      "execution_count": null,
      "id": "5828210b",
      "metadata": {
        "id": "5828210b",
        "outputId": "852c0f27-85af-4f1a-8e93-39c54394b9fb"
      },
      "outputs": [
        {
          "data": {
            "image/png": "[encoded data removed]",
            "text/plain": [
              "<Figure size 640x480 with 1 Axes>"
            ]
          },
          "metadata": {},
          "output_type": "display_data"
        }
      ],
      "source": [
        "fitted_values = model_Y1_G_GY1.fittedvalues\n",
        "X = data.Years1\n",
        "plt.scatter(X,fitted_values)\n",
        "plt.xlabel('X')\n",
        "plt.ylabel('Fitted Values')\n",
        "plt.title('Fitted v.s X')\n",
        "plt.show()"
      ]
    },
    {
      "cell_type": "code",
      "execution_count": null,
      "id": "02f69156",
      "metadata": {
        "id": "02f69156"
      },
      "outputs": [],
      "source": []
    }
  ],
  "metadata": {
    "kernelspec": {
      "display_name": "Python 3 (ipykernel)",
      "language": "python",
      "name": "python3"
    },
    "language_info": {
      "codemirror_mode": {
        "name": "ipython",
        "version": 3
      },
      "file_extension": ".py",
      "mimetype": "text/x-python",
      "name": "python",
      "nbconvert_exporter": "python",
      "pygments_lexer": "ipython3",
      "version": "3.11.5"
    },
    "colab": {
      "provenance": [],
      "include_colab_link": true
    }
  },
  "nbformat": 4,
  "nbformat_minor": 5
}