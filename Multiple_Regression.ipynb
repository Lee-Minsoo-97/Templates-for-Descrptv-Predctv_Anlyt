{
  "cells": [
    {
      "cell_type": "markdown",
      "metadata": {
        "id": "view-in-github",
        "colab_type": "text"
      },
      "source": [
        "<a href=\"https://colab.research.google.com/github/Lee-Minsoo-97/Templates-for-Descrptv-Predctv_Anlyt/blob/main/Multiple_Regression.ipynb\" target=\"_parent\"><img src=\"https://colab.research.google.com/assets/colab-badge.svg\" alt=\"Open In Colab\"/></a>"
      ]
    },
    {
      "cell_type": "code",
      "execution_count": null,
      "id": "75e4a096",
      "metadata": {
        "id": "75e4a096"
      },
      "outputs": [],
      "source": [
        "import pandas as pd\n",
        "import numpy as np\n",
        "import statsmodels.formula.api as smf\n",
        "from statsmodels.stats.anova import anova_lm\n",
        "import matplotlib.pyplot as plt"
      ]
    },
    {
      "cell_type": "code",
      "execution_count": null,
      "id": "7421902c",
      "metadata": {
        "id": "7421902c",
        "outputId": "81726461-c9a3-44fb-c886-b22f6bd40cf6",
        "colab": {
          "base_uri": "https://localhost:8080/",
          "height": 275
        }
      },
      "outputs": [
        {
          "output_type": "error",
          "ename": "FileNotFoundError",
          "evalue": "[Errno 2] No such file or directory: 'Overhead Costs.xlsx'",
          "traceback": [
            "\u001b[0;31m---------------------------------------------------------------------------\u001b[0m",
            "\u001b[0;31mFileNotFoundError\u001b[0m                         Traceback (most recent call last)",
            "\u001b[0;32m<ipython-input-2-0e085eb5c83e>\u001b[0m in \u001b[0;36m<cell line: 1>\u001b[0;34m()\u001b[0m\n\u001b[0;32m----> 1\u001b[0;31m \u001b[0mdata\u001b[0m \u001b[0;34m=\u001b[0m \u001b[0mpd\u001b[0m\u001b[0;34m.\u001b[0m\u001b[0mread_excel\u001b[0m\u001b[0;34m(\u001b[0m\u001b[0;34m'Overhead Costs.xlsx'\u001b[0m\u001b[0;34m)\u001b[0m\u001b[0;34m\u001b[0m\u001b[0;34m\u001b[0m\u001b[0m\n\u001b[0m",
            "\u001b[0;32m/usr/local/lib/python3.10/dist-packages/pandas/io/excel/_base.py\u001b[0m in \u001b[0;36mread_excel\u001b[0;34m(io, sheet_name, header, names, index_col, usecols, dtype, engine, converters, true_values, false_values, skiprows, nrows, na_values, keep_default_na, na_filter, verbose, parse_dates, date_parser, date_format, thousands, decimal, comment, skipfooter, storage_options, dtype_backend, engine_kwargs)\u001b[0m\n\u001b[1;32m    502\u001b[0m     \u001b[0;32mif\u001b[0m \u001b[0;32mnot\u001b[0m \u001b[0misinstance\u001b[0m\u001b[0;34m(\u001b[0m\u001b[0mio\u001b[0m\u001b[0;34m,\u001b[0m \u001b[0mExcelFile\u001b[0m\u001b[0;34m)\u001b[0m\u001b[0;34m:\u001b[0m\u001b[0;34m\u001b[0m\u001b[0;34m\u001b[0m\u001b[0m\n\u001b[1;32m    503\u001b[0m         \u001b[0mshould_close\u001b[0m \u001b[0;34m=\u001b[0m \u001b[0;32mTrue\u001b[0m\u001b[0;34m\u001b[0m\u001b[0;34m\u001b[0m\u001b[0m\n\u001b[0;32m--> 504\u001b[0;31m         io = ExcelFile(\n\u001b[0m\u001b[1;32m    505\u001b[0m             \u001b[0mio\u001b[0m\u001b[0;34m,\u001b[0m\u001b[0;34m\u001b[0m\u001b[0;34m\u001b[0m\u001b[0m\n\u001b[1;32m    506\u001b[0m             \u001b[0mstorage_options\u001b[0m\u001b[0;34m=\u001b[0m\u001b[0mstorage_options\u001b[0m\u001b[0;34m,\u001b[0m\u001b[0;34m\u001b[0m\u001b[0;34m\u001b[0m\u001b[0m\n",
            "\u001b[0;32m/usr/local/lib/python3.10/dist-packages/pandas/io/excel/_base.py\u001b[0m in \u001b[0;36m__init__\u001b[0;34m(self, path_or_buffer, engine, storage_options, engine_kwargs)\u001b[0m\n\u001b[1;32m   1561\u001b[0m                 \u001b[0mext\u001b[0m \u001b[0;34m=\u001b[0m \u001b[0;34m\"xls\"\u001b[0m\u001b[0;34m\u001b[0m\u001b[0;34m\u001b[0m\u001b[0m\n\u001b[1;32m   1562\u001b[0m             \u001b[0;32melse\u001b[0m\u001b[0;34m:\u001b[0m\u001b[0;34m\u001b[0m\u001b[0;34m\u001b[0m\u001b[0m\n\u001b[0;32m-> 1563\u001b[0;31m                 ext = inspect_excel_format(\n\u001b[0m\u001b[1;32m   1564\u001b[0m                     \u001b[0mcontent_or_path\u001b[0m\u001b[0;34m=\u001b[0m\u001b[0mpath_or_buffer\u001b[0m\u001b[0;34m,\u001b[0m \u001b[0mstorage_options\u001b[0m\u001b[0;34m=\u001b[0m\u001b[0mstorage_options\u001b[0m\u001b[0;34m\u001b[0m\u001b[0;34m\u001b[0m\u001b[0m\n\u001b[1;32m   1565\u001b[0m                 )\n",
            "\u001b[0;32m/usr/local/lib/python3.10/dist-packages/pandas/io/excel/_base.py\u001b[0m in \u001b[0;36minspect_excel_format\u001b[0;34m(content_or_path, storage_options)\u001b[0m\n\u001b[1;32m   1417\u001b[0m         \u001b[0mcontent_or_path\u001b[0m \u001b[0;34m=\u001b[0m \u001b[0mBytesIO\u001b[0m\u001b[0;34m(\u001b[0m\u001b[0mcontent_or_path\u001b[0m\u001b[0;34m)\u001b[0m\u001b[0;34m\u001b[0m\u001b[0;34m\u001b[0m\u001b[0m\n\u001b[1;32m   1418\u001b[0m \u001b[0;34m\u001b[0m\u001b[0m\n\u001b[0;32m-> 1419\u001b[0;31m     with get_handle(\n\u001b[0m\u001b[1;32m   1420\u001b[0m         \u001b[0mcontent_or_path\u001b[0m\u001b[0;34m,\u001b[0m \u001b[0;34m\"rb\"\u001b[0m\u001b[0;34m,\u001b[0m \u001b[0mstorage_options\u001b[0m\u001b[0;34m=\u001b[0m\u001b[0mstorage_options\u001b[0m\u001b[0;34m,\u001b[0m \u001b[0mis_text\u001b[0m\u001b[0;34m=\u001b[0m\u001b[0;32mFalse\u001b[0m\u001b[0;34m\u001b[0m\u001b[0;34m\u001b[0m\u001b[0m\n\u001b[1;32m   1421\u001b[0m     ) as handle:\n",
            "\u001b[0;32m/usr/local/lib/python3.10/dist-packages/pandas/io/common.py\u001b[0m in \u001b[0;36mget_handle\u001b[0;34m(path_or_buf, mode, encoding, compression, memory_map, is_text, errors, storage_options)\u001b[0m\n\u001b[1;32m    870\u001b[0m         \u001b[0;32melse\u001b[0m\u001b[0;34m:\u001b[0m\u001b[0;34m\u001b[0m\u001b[0;34m\u001b[0m\u001b[0m\n\u001b[1;32m    871\u001b[0m             \u001b[0;31m# Binary mode\u001b[0m\u001b[0;34m\u001b[0m\u001b[0;34m\u001b[0m\u001b[0m\n\u001b[0;32m--> 872\u001b[0;31m             \u001b[0mhandle\u001b[0m \u001b[0;34m=\u001b[0m \u001b[0mopen\u001b[0m\u001b[0;34m(\u001b[0m\u001b[0mhandle\u001b[0m\u001b[0;34m,\u001b[0m \u001b[0mioargs\u001b[0m\u001b[0;34m.\u001b[0m\u001b[0mmode\u001b[0m\u001b[0;34m)\u001b[0m\u001b[0;34m\u001b[0m\u001b[0;34m\u001b[0m\u001b[0m\n\u001b[0m\u001b[1;32m    873\u001b[0m         \u001b[0mhandles\u001b[0m\u001b[0;34m.\u001b[0m\u001b[0mappend\u001b[0m\u001b[0;34m(\u001b[0m\u001b[0mhandle\u001b[0m\u001b[0;34m)\u001b[0m\u001b[0;34m\u001b[0m\u001b[0;34m\u001b[0m\u001b[0m\n\u001b[1;32m    874\u001b[0m \u001b[0;34m\u001b[0m\u001b[0m\n",
            "\u001b[0;31mFileNotFoundError\u001b[0m: [Errno 2] No such file or directory: 'Overhead Costs.xlsx'"
          ]
        }
      ],
      "source": [
        "data = pd.read_excel('Overhead Costs.xlsx')"
      ]
    },
    {
      "cell_type": "code",
      "execution_count": null,
      "id": "24f0b8e3",
      "metadata": {
        "id": "24f0b8e3",
        "outputId": "19da9a35-7204-4cd2-ee76-1316b49417a5"
      },
      "outputs": [
        {
          "data": {
            "text/html": [
              "<div>\n",
              "<style scoped>\n",
              "    .dataframe tbody tr th:only-of-type {\n",
              "        vertical-align: middle;\n",
              "    }\n",
              "\n",
              "    .dataframe tbody tr th {\n",
              "        vertical-align: top;\n",
              "    }\n",
              "\n",
              "    .dataframe thead th {\n",
              "        text-align: right;\n",
              "    }\n",
              "</style>\n",
              "<table border=\"1\" class=\"dataframe\">\n",
              "  <thead>\n",
              "    <tr style=\"text-align: right;\">\n",
              "      <th></th>\n",
              "      <th>Month</th>\n",
              "      <th>Machine Hours</th>\n",
              "      <th>Production Runs</th>\n",
              "      <th>Overhead</th>\n",
              "    </tr>\n",
              "  </thead>\n",
              "  <tbody>\n",
              "    <tr>\n",
              "      <th>0</th>\n",
              "      <td>1</td>\n",
              "      <td>1539</td>\n",
              "      <td>31</td>\n",
              "      <td>99798</td>\n",
              "    </tr>\n",
              "    <tr>\n",
              "      <th>1</th>\n",
              "      <td>2</td>\n",
              "      <td>1284</td>\n",
              "      <td>29</td>\n",
              "      <td>87804</td>\n",
              "    </tr>\n",
              "    <tr>\n",
              "      <th>2</th>\n",
              "      <td>3</td>\n",
              "      <td>1490</td>\n",
              "      <td>27</td>\n",
              "      <td>93681</td>\n",
              "    </tr>\n",
              "    <tr>\n",
              "      <th>3</th>\n",
              "      <td>4</td>\n",
              "      <td>1355</td>\n",
              "      <td>22</td>\n",
              "      <td>82262</td>\n",
              "    </tr>\n",
              "    <tr>\n",
              "      <th>4</th>\n",
              "      <td>5</td>\n",
              "      <td>1500</td>\n",
              "      <td>35</td>\n",
              "      <td>106968</td>\n",
              "    </tr>\n",
              "  </tbody>\n",
              "</table>\n",
              "</div>"
            ],
            "text/plain": [
              "   Month  Machine Hours  Production Runs  Overhead\n",
              "0      1           1539               31     99798\n",
              "1      2           1284               29     87804\n",
              "2      3           1490               27     93681\n",
              "3      4           1355               22     82262\n",
              "4      5           1500               35    106968"
            ]
          },
          "execution_count": 23,
          "metadata": {},
          "output_type": "execute_result"
        }
      ],
      "source": [
        "data.head()"
      ]
    },
    {
      "cell_type": "code",
      "execution_count": null,
      "id": "3b100af0",
      "metadata": {
        "id": "3b100af0",
        "outputId": "16942187-cb90-4f0c-d1a9-4684888dff19"
      },
      "outputs": [
        {
          "data": {
            "text/plain": [
              "Index(['Month', 'Machine Hours', 'Production Runs', 'Overhead'], dtype='object')"
            ]
          },
          "execution_count": 18,
          "metadata": {},
          "output_type": "execute_result"
        }
      ],
      "source": [
        "data.columns"
      ]
    },
    {
      "cell_type": "code",
      "execution_count": null,
      "id": "8f2054d5",
      "metadata": {
        "id": "8f2054d5"
      },
      "outputs": [],
      "source": [
        "data.rename(columns={'Machine Hours': 'Machine_Hours','Production Runs':'Production_Runs'}, inplace=True)"
      ]
    },
    {
      "cell_type": "code",
      "execution_count": null,
      "id": "7bb6ccda",
      "metadata": {
        "id": "7bb6ccda",
        "outputId": "8ae78227-9733-43b4-f868-647e83bb6d21"
      },
      "outputs": [
        {
          "data": {
            "text/plain": [
              "Index(['Month', 'Machine_Hours', 'Production_Runs', 'Overhead'], dtype='object')"
            ]
          },
          "execution_count": 26,
          "metadata": {},
          "output_type": "execute_result"
        }
      ],
      "source": [
        "data.columns"
      ]
    },
    {
      "cell_type": "markdown",
      "id": "2fd088af",
      "metadata": {
        "id": "2fd088af"
      },
      "source": [
        "# Overhead ~ Machine Hours"
      ]
    },
    {
      "cell_type": "code",
      "execution_count": null,
      "id": "5beb50b2",
      "metadata": {
        "id": "5beb50b2",
        "outputId": "5f773795-680e-4107-809f-31e5142d0e4c"
      },
      "outputs": [
        {
          "name": "stdout",
          "output_type": "stream",
          "text": [
            "                            OLS Regression Results                            \n",
            "==============================================================================\n",
            "Dep. Variable:               Overhead   R-squared:                       0.399\n",
            "Model:                            OLS   Adj. R-squared:                  0.382\n",
            "Method:                 Least Squares   F-statistic:                     22.60\n",
            "Date:                Tue, 10 Sep 2024   Prob (F-statistic):           3.57e-05\n",
            "Time:                        16:24:27   Log-Likelihood:                -376.13\n",
            "No. Observations:                  36   AIC:                             756.3\n",
            "Df Residuals:                      34   BIC:                             759.4\n",
            "Df Model:                           1                                         \n",
            "Covariance Type:            nonrobust                                         \n",
            "=================================================================================\n",
            "                    coef    std err          t      P>|t|      [0.025      0.975]\n",
            "---------------------------------------------------------------------------------\n",
            "Intercept      4.862e+04   1.07e+04      4.533      0.000    2.68e+04    7.04e+04\n",
            "Machine_Hours    34.7022      7.300      4.754      0.000      19.867      49.537\n",
            "==============================================================================\n",
            "Omnibus:                        0.251   Durbin-Watson:                   2.451\n",
            "Prob(Omnibus):                  0.882   Jarque-Bera (JB):                0.140\n",
            "Skew:                           0.141   Prob(JB):                        0.933\n",
            "Kurtosis:                       2.886   Cond. No.                     1.10e+04\n",
            "==============================================================================\n",
            "\n",
            "Notes:\n",
            "[1] Standard Errors assume that the covariance matrix of the errors is correctly specified.\n",
            "[2] The condition number is large, 1.1e+04. This might indicate that there are\n",
            "strong multicollinearity or other numerical problems.\n"
          ]
        }
      ],
      "source": [
        "model = smf.ols(formula='Overhead ~Machine_Hours', data=data).fit()\n",
        "print(model.summary())"
      ]
    },
    {
      "cell_type": "code",
      "execution_count": null,
      "id": "db5cdc8d",
      "metadata": {
        "id": "db5cdc8d",
        "outputId": "6e9c2080-99a0-48c1-be9b-00fb96180e37"
      },
      "outputs": [
        {
          "data": {
            "text/html": [
              "<div>\n",
              "<style scoped>\n",
              "    .dataframe tbody tr th:only-of-type {\n",
              "        vertical-align: middle;\n",
              "    }\n",
              "\n",
              "    .dataframe tbody tr th {\n",
              "        vertical-align: top;\n",
              "    }\n",
              "\n",
              "    .dataframe thead th {\n",
              "        text-align: right;\n",
              "    }\n",
              "</style>\n",
              "<table border=\"1\" class=\"dataframe\">\n",
              "  <thead>\n",
              "    <tr style=\"text-align: right;\">\n",
              "      <th></th>\n",
              "      <th>df</th>\n",
              "      <th>sum_sq</th>\n",
              "      <th>mean_sq</th>\n",
              "      <th>F</th>\n",
              "      <th>PR(&gt;F)</th>\n",
              "    </tr>\n",
              "  </thead>\n",
              "  <tbody>\n",
              "    <tr>\n",
              "      <th>Machine_Hours</th>\n",
              "      <td>1.0</td>\n",
              "      <td>1.665463e+09</td>\n",
              "      <td>1.665463e+09</td>\n",
              "      <td>22.598565</td>\n",
              "      <td>0.000036</td>\n",
              "    </tr>\n",
              "    <tr>\n",
              "      <th>Residual</th>\n",
              "      <td>34.0</td>\n",
              "      <td>2.505723e+09</td>\n",
              "      <td>7.369775e+07</td>\n",
              "      <td>NaN</td>\n",
              "      <td>NaN</td>\n",
              "    </tr>\n",
              "  </tbody>\n",
              "</table>\n",
              "</div>"
            ],
            "text/plain": [
              "                 df        sum_sq       mean_sq          F    PR(>F)\n",
              "Machine_Hours   1.0  1.665463e+09  1.665463e+09  22.598565  0.000036\n",
              "Residual       34.0  2.505723e+09  7.369775e+07        NaN       NaN"
            ]
          },
          "execution_count": 28,
          "metadata": {},
          "output_type": "execute_result"
        }
      ],
      "source": [
        "anova_lm(model)"
      ]
    },
    {
      "cell_type": "code",
      "execution_count": null,
      "id": "f90dcd0e",
      "metadata": {
        "id": "f90dcd0e",
        "outputId": "a89b080b-0067-4053-ac92-be2ed184097e"
      },
      "outputs": [
        {
          "data": {
            "image/png": "[encoded data removed]",
            "text/plain": [
              "<Figure size 640x480 with 1 Axes>"
            ]
          },
          "metadata": {},
          "output_type": "display_data"
        }
      ],
      "source": [
        "fitted_values = model.fittedvalues\n",
        "residuals = model.resid\n",
        "plt.scatter(fitted_values, residuals)\n",
        "plt.axhline(0, color='red', linestyle='--')\n",
        "plt.xlabel('Fitted Values')\n",
        "plt.ylabel('Residuals')\n",
        "plt.title('Residual Plot')\n",
        "plt.show()"
      ]
    },
    {
      "cell_type": "markdown",
      "id": "d610881e",
      "metadata": {
        "id": "d610881e"
      },
      "source": [
        "# Overhead ~ Production Runs"
      ]
    },
    {
      "cell_type": "code",
      "execution_count": null,
      "id": "6c6f30ad",
      "metadata": {
        "id": "6c6f30ad",
        "outputId": "975d518e-eaaf-460c-9f40-e5ff4d2fe4d1"
      },
      "outputs": [
        {
          "name": "stdout",
          "output_type": "stream",
          "text": [
            "                            OLS Regression Results                            \n",
            "==============================================================================\n",
            "Dep. Variable:               Overhead   R-squared:                       0.271\n",
            "Model:                            OLS   Adj. R-squared:                  0.250\n",
            "Method:                 Least Squares   F-statistic:                     12.64\n",
            "Date:                Tue, 10 Sep 2024   Prob (F-statistic):            0.00114\n",
            "Time:                        16:28:18   Log-Likelihood:                -379.62\n",
            "No. Observations:                  36   AIC:                             763.2\n",
            "Df Residuals:                      34   BIC:                             766.4\n",
            "Df Model:                           1                                         \n",
            "Covariance Type:            nonrobust                                         \n",
            "===================================================================================\n",
            "                      coef    std err          t      P>|t|      [0.025      0.975]\n",
            "-----------------------------------------------------------------------------------\n",
            "Intercept        7.561e+04   6808.611     11.104      0.000    6.18e+04    8.94e+04\n",
            "Production_Runs   655.0707    184.275      3.555      0.001     280.579    1029.562\n",
            "==============================================================================\n",
            "Omnibus:                        0.597   Durbin-Watson:                   2.090\n",
            "Prob(Omnibus):                  0.742   Jarque-Bera (JB):                0.683\n",
            "Skew:                          -0.264   Prob(JB):                        0.711\n",
            "Kurtosis:                       2.580   Cond. No.                         160.\n",
            "==============================================================================\n",
            "\n",
            "Notes:\n",
            "[1] Standard Errors assume that the covariance matrix of the errors is correctly specified.\n"
          ]
        }
      ],
      "source": [
        "model_prod = smf.ols(formula='Overhead ~Production_Runs', data=data).fit()\n",
        "print(model_prod.summary())"
      ]
    },
    {
      "cell_type": "code",
      "execution_count": null,
      "id": "69002fc9",
      "metadata": {
        "id": "69002fc9",
        "outputId": "4bfa280c-8c63-443e-deb0-0462dd66a3e1"
      },
      "outputs": [
        {
          "data": {
            "text/html": [
              "<div>\n",
              "<style scoped>\n",
              "    .dataframe tbody tr th:only-of-type {\n",
              "        vertical-align: middle;\n",
              "    }\n",
              "\n",
              "    .dataframe tbody tr th {\n",
              "        vertical-align: top;\n",
              "    }\n",
              "\n",
              "    .dataframe thead th {\n",
              "        text-align: right;\n",
              "    }\n",
              "</style>\n",
              "<table border=\"1\" class=\"dataframe\">\n",
              "  <thead>\n",
              "    <tr style=\"text-align: right;\">\n",
              "      <th></th>\n",
              "      <th>df</th>\n",
              "      <th>sum_sq</th>\n",
              "      <th>mean_sq</th>\n",
              "      <th>F</th>\n",
              "      <th>PR(&gt;F)</th>\n",
              "    </tr>\n",
              "  </thead>\n",
              "  <tbody>\n",
              "    <tr>\n",
              "      <th>Production_Runs</th>\n",
              "      <td>1.0</td>\n",
              "      <td>1.130248e+09</td>\n",
              "      <td>1.130248e+09</td>\n",
              "      <td>12.637029</td>\n",
              "      <td>0.001135</td>\n",
              "    </tr>\n",
              "    <tr>\n",
              "      <th>Residual</th>\n",
              "      <td>34.0</td>\n",
              "      <td>3.040939e+09</td>\n",
              "      <td>8.943938e+07</td>\n",
              "      <td>NaN</td>\n",
              "      <td>NaN</td>\n",
              "    </tr>\n",
              "  </tbody>\n",
              "</table>\n",
              "</div>"
            ],
            "text/plain": [
              "                   df        sum_sq       mean_sq          F    PR(>F)\n",
              "Production_Runs   1.0  1.130248e+09  1.130248e+09  12.637029  0.001135\n",
              "Residual         34.0  3.040939e+09  8.943938e+07        NaN       NaN"
            ]
          },
          "execution_count": 33,
          "metadata": {},
          "output_type": "execute_result"
        }
      ],
      "source": [
        "anova_lm(model_prod)"
      ]
    },
    {
      "cell_type": "code",
      "execution_count": null,
      "id": "75e4e5d9",
      "metadata": {
        "id": "75e4e5d9",
        "outputId": "b273d1e4-2a25-4482-e350-cb617e19439a"
      },
      "outputs": [
        {
          "data": {
            "image/png": "[encoded data removed]",
            "text/plain": [
              "<Figure size 640x480 with 1 Axes>"
            ]
          },
          "metadata": {},
          "output_type": "display_data"
        }
      ],
      "source": [
        "fitted_values = model_prod.fittedvalues\n",
        "residuals = model_prod.resid\n",
        "plt.scatter(fitted_values, residuals)\n",
        "plt.axhline(0, color='red', linestyle='--')\n",
        "plt.xlabel('Fitted Values')\n",
        "plt.ylabel('Residuals')\n",
        "plt.title('Residual Plot')\n",
        "plt.show()"
      ]
    },
    {
      "cell_type": "markdown",
      "id": "12d35a95",
      "metadata": {
        "id": "12d35a95"
      },
      "source": [
        "# Overhead ~ Production Runs + Machine Hours"
      ]
    },
    {
      "cell_type": "code",
      "execution_count": null,
      "id": "b3c9a3f2",
      "metadata": {
        "id": "b3c9a3f2",
        "outputId": "df48df76-3bd9-4773-ab9e-6cc6f344ec93"
      },
      "outputs": [
        {
          "name": "stdout",
          "output_type": "stream",
          "text": [
            "                            OLS Regression Results                            \n",
            "==============================================================================\n",
            "Dep. Variable:               Overhead   R-squared:                       0.866\n",
            "Model:                            OLS   Adj. R-squared:                  0.858\n",
            "Method:                 Least Squares   F-statistic:                     107.0\n",
            "Date:                Tue, 10 Sep 2024   Prob (F-statistic):           3.75e-15\n",
            "Time:                        16:29:36   Log-Likelihood:                -349.07\n",
            "No. Observations:                  36   AIC:                             704.1\n",
            "Df Residuals:                      33   BIC:                             708.9\n",
            "Df Model:                           2                                         \n",
            "Covariance Type:            nonrobust                                         \n",
            "===================================================================================\n",
            "                      coef    std err          t      P>|t|      [0.025      0.975]\n",
            "-----------------------------------------------------------------------------------\n",
            "Intercept        3996.6782   6603.651      0.605      0.549   -9438.551    1.74e+04\n",
            "Production_Runs   883.6179     82.251     10.743      0.000     716.276    1050.960\n",
            "Machine_Hours      43.5364      3.589     12.129      0.000      36.234      50.839\n",
            "==============================================================================\n",
            "Omnibus:                        3.142   Durbin-Watson:                   1.313\n",
            "Prob(Omnibus):                  0.208   Jarque-Bera (JB):                2.259\n",
            "Skew:                          -0.609   Prob(JB):                        0.323\n",
            "Kurtosis:                       3.155   Cond. No.                     1.42e+04\n",
            "==============================================================================\n",
            "\n",
            "Notes:\n",
            "[1] Standard Errors assume that the covariance matrix of the errors is correctly specified.\n",
            "[2] The condition number is large, 1.42e+04. This might indicate that there are\n",
            "strong multicollinearity or other numerical problems.\n"
          ]
        }
      ],
      "source": [
        "model_PM = smf.ols(formula='Overhead ~Production_Runs + Machine_Hours', data=data).fit()\n",
        "print(model_PM.summary())"
      ]
    },
    {
      "cell_type": "code",
      "execution_count": null,
      "id": "2a9212b3",
      "metadata": {
        "id": "2a9212b3",
        "outputId": "2a294f14-3b0f-4a58-8ea0-538a910ab8b6"
      },
      "outputs": [
        {
          "data": {
            "text/html": [
              "<div>\n",
              "<style scoped>\n",
              "    .dataframe tbody tr th:only-of-type {\n",
              "        vertical-align: middle;\n",
              "    }\n",
              "\n",
              "    .dataframe tbody tr th {\n",
              "        vertical-align: top;\n",
              "    }\n",
              "\n",
              "    .dataframe thead th {\n",
              "        text-align: right;\n",
              "    }\n",
              "</style>\n",
              "<table border=\"1\" class=\"dataframe\">\n",
              "  <thead>\n",
              "    <tr style=\"text-align: right;\">\n",
              "      <th></th>\n",
              "      <th>df</th>\n",
              "      <th>sum_sq</th>\n",
              "      <th>mean_sq</th>\n",
              "      <th>F</th>\n",
              "      <th>PR(&gt;F)</th>\n",
              "    </tr>\n",
              "  </thead>\n",
              "  <tbody>\n",
              "    <tr>\n",
              "      <th>Production_Runs</th>\n",
              "      <td>1.0</td>\n",
              "      <td>1.130248e+09</td>\n",
              "      <td>1.130248e+09</td>\n",
              "      <td>66.942654</td>\n",
              "      <td>1.905817e-09</td>\n",
              "    </tr>\n",
              "    <tr>\n",
              "      <th>Machine_Hours</th>\n",
              "      <td>1.0</td>\n",
              "      <td>2.483773e+09</td>\n",
              "      <td>2.483773e+09</td>\n",
              "      <td>147.109602</td>\n",
              "      <td>1.046454e-13</td>\n",
              "    </tr>\n",
              "    <tr>\n",
              "      <th>Residual</th>\n",
              "      <td>33.0</td>\n",
              "      <td>5.571662e+08</td>\n",
              "      <td>1.688382e+07</td>\n",
              "      <td>NaN</td>\n",
              "      <td>NaN</td>\n",
              "    </tr>\n",
              "  </tbody>\n",
              "</table>\n",
              "</div>"
            ],
            "text/plain": [
              "                   df        sum_sq       mean_sq           F        PR(>F)\n",
              "Production_Runs   1.0  1.130248e+09  1.130248e+09   66.942654  1.905817e-09\n",
              "Machine_Hours     1.0  2.483773e+09  2.483773e+09  147.109602  1.046454e-13\n",
              "Residual         33.0  5.571662e+08  1.688382e+07         NaN           NaN"
            ]
          },
          "execution_count": 34,
          "metadata": {},
          "output_type": "execute_result"
        }
      ],
      "source": [
        "anova_lm(model_PM)"
      ]
    },
    {
      "cell_type": "code",
      "execution_count": null,
      "id": "e5ee4936",
      "metadata": {
        "id": "e5ee4936",
        "outputId": "b3012d70-340c-4d29-943a-8388d969deaa"
      },
      "outputs": [
        {
          "data": {
            "image/png": "[encoded data removed]",
            "text/plain": [
              "<Figure size 640x480 with 1 Axes>"
            ]
          },
          "metadata": {},
          "output_type": "display_data"
        }
      ],
      "source": [
        "fitted_values = model_PM.fittedvalues\n",
        "residuals = model_PM.resid\n",
        "plt.scatter(fitted_values, residuals)\n",
        "plt.axhline(0, color='red', linestyle='--')\n",
        "plt.xlabel('Fitted Values')\n",
        "plt.ylabel('Residuals')\n",
        "plt.title('Residual Plot')\n",
        "plt.show()"
      ]
    },
    {
      "cell_type": "code",
      "execution_count": null,
      "id": "ce9069f2",
      "metadata": {
        "id": "ce9069f2"
      },
      "outputs": [],
      "source": []
    }
  ],
  "metadata": {
    "kernelspec": {
      "display_name": "Python 3 (ipykernel)",
      "language": "python",
      "name": "python3"
    },
    "language_info": {
      "codemirror_mode": {
        "name": "ipython",
        "version": 3
      },
      "file_extension": ".py",
      "mimetype": "text/x-python",
      "name": "python",
      "nbconvert_exporter": "python",
      "pygments_lexer": "ipython3",
      "version": "3.11.5"
    },
    "colab": {
      "provenance": [],
      "include_colab_link": true
    }
  },
  "nbformat": 4,
  "nbformat_minor": 5
}